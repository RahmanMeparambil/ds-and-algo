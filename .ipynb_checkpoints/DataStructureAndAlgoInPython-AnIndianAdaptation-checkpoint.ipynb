{
 "cells": [
  {
   "cell_type": "markdown",
   "id": "9bd3be44-74d9-4941-a6aa-7028094040de",
   "metadata": {},
   "source": [
    "# 1. INTRO TO PY3"
   ]
  },
  {
   "cell_type": "markdown",
   "id": "9c29e577-4e08-409e-a1b1-2436203af0eb",
   "metadata": {},
   "source": [
    "### Exercises"
   ]
  },
  {
   "cell_type": "markdown",
   "id": "d68fd738-4e53-47d3-b66a-162e687c155d",
   "metadata": {},
   "source": [
    "``` E-1.1  Write a program to prompt a user to enter his/her name and mailing address and display the entered information on the screen```"
   ]
  },
  {
   "cell_type": "code",
   "execution_count": 1,
   "id": "d17d8911-062f-4a58-bf3c-4cee29bc22b1",
   "metadata": {},
   "outputs": [
    {
     "name": "stdin",
     "output_type": "stream",
     "text": [
      "Enter name :  rahman\n",
      "Enter mail :  r@gmailcom\n"
     ]
    },
    {
     "name": "stdout",
     "output_type": "stream",
     "text": [
      "rahman r@gmailcom\n"
     ]
    }
   ],
   "source": [
    "name = input('Enter name : ')\n",
    "mail = input('Enter mail : ')\n",
    "print(name,mail)"
   ]
  },
  {
   "cell_type": "markdown",
   "id": "4bcc4560-75d4-4663-803f-4018b9e74d71",
   "metadata": {},
   "source": [
    "`E-1.2  Write a program to compute the area of different shapes and display the information on the screen`"
   ]
  },
  {
   "cell_type": "code",
   "execution_count": 2,
   "id": "d1f78e5c-1448-44fe-b498-88174f63bb2b",
   "metadata": {},
   "outputs": [],
   "source": [
    "class shape:\n",
    "    def __init__(self,name,n):\n",
    "        self.name = name\n",
    "        self.edges = n\n",
    "    def area(self):\n",
    "        raise NotImplementedError('Subclass implements this method')\n",
    "\n",
    "class rectangle(shape):\n",
    "    def __init__(self,length,width):\n",
    "        super().__init__('Rectangle',4)\n",
    "        self.length = length\n",
    "        self.width = width\n",
    "    def area(self):\n",
    "        return self.length*self.width\n",
    "\n",
    "class circle(shape):\n",
    "    def __init__(self,radius):\n",
    "        super().__init__('circle',1)\n",
    "        self.radius = radius\n",
    "    def area(self):\n",
    "        return self.radius*self.radius\n",
    "        "
   ]
  },
  {
   "cell_type": "code",
   "execution_count": 3,
   "id": "dcab36c3-d939-47cb-b955-e5bb4bb5ebd4",
   "metadata": {},
   "outputs": [
    {
     "data": {
      "text/plain": [
       "4.840000000000001"
      ]
     },
     "execution_count": 3,
     "metadata": {},
     "output_type": "execute_result"
    }
   ],
   "source": [
    "rectangle(3,4).area()\n",
    "circle(2.2).area()"
   ]
  },
  {
   "cell_type": "markdown",
   "id": "0ac95bfd-cc7b-4b65-b21c-cd533dd329a8",
   "metadata": {},
   "source": [
    "`E-1.3  write a program to compute the factorial of a given number and display the result on the screen`"
   ]
  },
  {
   "cell_type": "code",
   "execution_count": 4,
   "id": "cdc7c523-d6a4-413f-a683-720e79e501d7",
   "metadata": {},
   "outputs": [],
   "source": [
    "def fact(n):\n",
    "    assert n >= 0,'No Factorial !!'\n",
    "    if n<=1 :\n",
    "        return 1\n",
    "    return n*fact(n-1)"
   ]
  },
  {
   "cell_type": "code",
   "execution_count": 5,
   "id": "ad053b55-d22d-4e6b-b2f2-06c09d9e11b4",
   "metadata": {},
   "outputs": [
    {
     "data": {
      "text/plain": [
       "2"
      ]
     },
     "execution_count": 5,
     "metadata": {},
     "output_type": "execute_result"
    }
   ],
   "source": [
    "fact(2)"
   ]
  },
  {
   "cell_type": "markdown",
   "id": "d2d2ca7d-ac93-4b02-9b36-70000420d1ff",
   "metadata": {},
   "source": [
    "`E-1.4  write a program to check if a given number is prime and display the result on the screen`"
   ]
  },
  {
   "cell_type": "code",
   "execution_count": 6,
   "id": "1f500291-2b5f-4617-ab78-4693d74c69f2",
   "metadata": {},
   "outputs": [
    {
     "data": {
      "text/plain": [
       "False"
      ]
     },
     "execution_count": 6,
     "metadata": {},
     "output_type": "execute_result"
    }
   ],
   "source": [
    "def isPrime(n):\n",
    "    if n>1:\n",
    "        for i in range(2,n):\n",
    "            if n%i == 0:\n",
    "                return False\n",
    "        return True\n",
    "isPrime(10)"
   ]
  },
  {
   "cell_type": "markdown",
   "id": "ebb6579d-aeb7-41b0-92b3-d89580c0c807",
   "metadata": {},
   "source": [
    "`E-1.5 Write a program to find the GCD of two numbers`"
   ]
  },
  {
   "cell_type": "code",
   "execution_count": 7,
   "id": "f30b5b05-32e0-40c7-a1b7-8c20c03d0646",
   "metadata": {},
   "outputs": [],
   "source": [
    "x,y = 10,15\n",
    "\n",
    "def gcd(x,y):\n",
    "    def find(smaller,greater) :\n",
    "        for i in range(smaller,1,-1):\n",
    "            if smaller%i == 0 and greater%i == 0:\n",
    "                return i\n",
    "                \n",
    "    if x == min(x,y):\n",
    "        return find(x,y)\n",
    "    else:\n",
    "        return find(y,x)\n",
    "\n"
   ]
  },
  {
   "cell_type": "code",
   "execution_count": 8,
   "id": "ebc770ab-c37d-4e2d-985a-bbb79f4f8851",
   "metadata": {},
   "outputs": [
    {
     "data": {
      "text/plain": [
       "5"
      ]
     },
     "execution_count": 8,
     "metadata": {},
     "output_type": "execute_result"
    }
   ],
   "source": [
    "gcd(x,y)"
   ]
  },
  {
   "cell_type": "markdown",
   "id": "04e6d03d-6c75-406b-8602-85490976d826",
   "metadata": {},
   "source": [
    "`E-1.6  write a program to find the average of N natural numbers where the value of N is entered`"
   ]
  },
  {
   "cell_type": "code",
   "execution_count": 9,
   "id": "421fad1d-ebef-44a6-9e0b-550f45c31062",
   "metadata": {},
   "outputs": [
    {
     "data": {
      "text/plain": [
       "71.5"
      ]
     },
     "execution_count": 9,
     "metadata": {},
     "output_type": "execute_result"
    }
   ],
   "source": [
    "def avg(n):\n",
    "    l = [i for i in range(n)]\n",
    "    return sum(l)/len(l)+1\n",
    "avg(142)"
   ]
  },
  {
   "cell_type": "markdown",
   "id": "f4884a2e-4b02-4e78-91a3-93f1cfca9a09",
   "metadata": {},
   "source": [
    "`E-1.7  Write a program that returns the number of vowels in a text where the text is entered through keyboard`"
   ]
  },
  {
   "cell_type": "code",
   "execution_count": 10,
   "id": "c7708c63-4dc2-4842-9faf-1dbeee89991c",
   "metadata": {},
   "outputs": [
    {
     "name": "stdin",
     "output_type": "stream",
     "text": [
      "Enter Your String :  once upon a time in mumbai\n"
     ]
    },
    {
     "data": {
      "text/plain": [
       "11"
      ]
     },
     "execution_count": 10,
     "metadata": {},
     "output_type": "execute_result"
    }
   ],
   "source": [
    "def vowels():\n",
    "    str = input('Enter Your String : ')\n",
    "    v = ['a','e','i','o','u',]\n",
    "    count = 0\n",
    "    for s in str:\n",
    "        if s in v:\n",
    "            count +=1\n",
    "    return count\n",
    "vowels()"
   ]
  },
  {
   "cell_type": "markdown",
   "id": "0659f03c-c5d1-4afd-b826-cce060ffc7c4",
   "metadata": {},
   "source": [
    "`E-1.8  Write a program that returns the chinese zodiac sign of a person where year of birth is entered`"
   ]
  },
  {
   "cell_type": "code",
   "execution_count": null,
   "id": "d3033bb3-7881-4447-94a2-90faf7605440",
   "metadata": {},
   "outputs": [],
   "source": []
  },
  {
   "cell_type": "markdown",
   "id": "1bcb64f1-47b4-46e2-b972-c04b66915f79",
   "metadata": {},
   "source": [
    "`E-1.9  Write a program to find the number of words in the text entered by the user and then to sort the words`"
   ]
  },
  {
   "cell_type": "code",
   "execution_count": 11,
   "id": "458fc99b-a7f0-4e2f-b4f0-2e803c44dc67",
   "metadata": {},
   "outputs": [],
   "source": [
    "def length():\n",
    "    sentence = input('Enter a sentence : ').split()\n",
    "    n = len(sentence)\n",
    "    return n,sorted(sentence)"
   ]
  },
  {
   "cell_type": "code",
   "execution_count": 12,
   "id": "1a4bd6ba-c277-4644-9ff4-611a24b80ade",
   "metadata": {},
   "outputs": [
    {
     "name": "stdin",
     "output_type": "stream",
     "text": [
      "Enter a sentence :  this is a sentence!\n"
     ]
    },
    {
     "data": {
      "text/plain": [
       "(4, ['a', 'is', 'sentence!', 'this'])"
      ]
     },
     "execution_count": 12,
     "metadata": {},
     "output_type": "execute_result"
    }
   ],
   "source": [
    "length()"
   ]
  },
  {
   "cell_type": "markdown",
   "id": "7256f359-871d-47d8-8c9a-e10e8f84b73d",
   "metadata": {},
   "source": [
    "`E-1.10  write a program to find the sum of only integer numbers in a list . For non integers an exception is caught`"
   ]
  },
  {
   "cell_type": "code",
   "execution_count": 13,
   "id": "274af108-69a8-4997-be06-62469c20f6d1",
   "metadata": {},
   "outputs": [
    {
     "name": "stdin",
     "output_type": "stream",
     "text": [
      "Enter a list of numbers seperated by space : 13a\n"
     ]
    },
    {
     "name": "stdout",
     "output_type": "stream",
     "text": [
      "entry cannot be converted to integer\n",
      "4\n"
     ]
    }
   ],
   "source": [
    "number = input('Enter a list of numbers seperated by space :')\n",
    "s = 0\n",
    "for n in number:\n",
    "    try:\n",
    "        num = int(n)\n",
    "        s += num\n",
    "    except :\n",
    "        print('entry cannot be converted to integer')\n",
    "print(s)"
   ]
  },
  {
   "cell_type": "markdown",
   "id": "6c6b3841-e64a-4960-822b-1a9054d965a2",
   "metadata": {},
   "source": [
    "### Reinforcement"
   ]
  },
  {
   "cell_type": "markdown",
   "id": "cc00f22f-4751-4d34-998e-e68b4818a679",
   "metadata": {},
   "source": [
    "`R-1.1  Write a short python function, is_multiple(n,m), that takes two integer values and returns True if n is a multiple of m, that is,`\n",
    "n=${m_i}$ for some integer i, and False otherwise."
   ]
  },
  {
   "cell_type": "code",
   "execution_count": 14,
   "id": "e72f71c5-a6a3-4667-8ebe-230ba101d9f5",
   "metadata": {},
   "outputs": [
    {
     "data": {
      "text/plain": [
       "False"
      ]
     },
     "execution_count": 14,
     "metadata": {},
     "output_type": "execute_result"
    }
   ],
   "source": [
    "def is_multiple(n,m):\n",
    "    if n%m == 0:\n",
    "        return True\n",
    "    return False\n",
    "\n",
    "\n",
    "is_multiple(4,5)"
   ]
  },
  {
   "cell_type": "markdown",
   "id": "e7f61f0a-b406-4c11-b131-02de42ee0e68",
   "metadata": {},
   "source": [
    "`R-1.2  Write a short Python function, is_even(k) , that takes an integer value and returns True if k is even, and False otherwise. However,your function cannot use the multiplication modulo, or division operator.`"
   ]
  },
  {
   "cell_type": "code",
   "execution_count": 15,
   "id": "e9c3ccf6-703e-41b3-80cf-1d43c998298b",
   "metadata": {},
   "outputs": [
    {
     "data": {
      "text/plain": [
       "True"
      ]
     },
     "execution_count": 15,
     "metadata": {},
     "output_type": "execute_result"
    }
   ],
   "source": [
    "def is_even(k):\n",
    "    if k&1 == 0:\n",
    "        return True\n",
    "    else:\n",
    "        return False\n",
    "\n",
    "\n",
    "is_even(6)"
   ]
  },
  {
   "cell_type": "markdown",
   "id": "b0b8071a-0390-4fab-afd7-21849684c3b8",
   "metadata": {},
   "source": [
    "`R-1.3  Write a short python function, minmax(data) , that takes a sequence of three or more numbers, and returns the smallest and largest numbers, in the form of a tuple of length two, Do not use the built-in functions min or max in implementing your solution.`"
   ]
  },
  {
   "cell_type": "code",
   "execution_count": 16,
   "id": "95ebb950-dccc-4a0e-b049-10898bcc7d8f",
   "metadata": {},
   "outputs": [
    {
     "data": {
      "text/plain": [
       "(0, 100)"
      ]
     },
     "execution_count": 16,
     "metadata": {},
     "output_type": "execute_result"
    }
   ],
   "source": [
    "def minmax(data):\n",
    "    try:\n",
    "      data = sorted(data)\n",
    "      return data[0],data[len(data)-1]\n",
    "    except:\n",
    "        return []\n",
    "\n",
    "minmax([0,10,100,1])"
   ]
  },
  {
   "cell_type": "markdown",
   "id": "0ffc39b2-6e61-4093-87f9-1332ca4bab3b",
   "metadata": {},
   "source": [
    "`R-1.4 Write a short python function that takes a positive integer n and returns the sum of the squares of all the even positive integers smaller than n`"
   ]
  },
  {
   "cell_type": "code",
   "execution_count": 6,
   "id": "ea97c194-d20f-498d-8142-87c126759b03",
   "metadata": {},
   "outputs": [
    {
     "data": {
      "text/plain": [
       "220"
      ]
     },
     "execution_count": 6,
     "metadata": {},
     "output_type": "execute_result"
    }
   ],
   "source": [
    "def sumofsquare(n):\n",
    "    s = 0\n",
    "    for v in range(1,n+1):\n",
    "        if v%2 == 0:\n",
    "            s += v*v\n",
    "    return s\n",
    "sumofsquare(10)"
   ]
  },
  {
   "cell_type": "markdown",
   "id": "38141f29-3436-48f8-b696-d340f7400e70",
   "metadata": {},
   "source": [
    "`R-1.5 Give a single command that computes the sum from exercise R-1.4, relying on python's comprehension suntax and the built in sum function.`"
   ]
  },
  {
   "cell_type": "code",
   "execution_count": 8,
   "id": "bbe62135-f58a-4ba7-b320-126d4e1ad92f",
   "metadata": {},
   "outputs": [
    {
     "data": {
      "text/plain": [
       "220"
      ]
     },
     "execution_count": 8,
     "metadata": {},
     "output_type": "execute_result"
    }
   ],
   "source": [
    "def sumofsquare2(n):\n",
    "    return  sum([i*i  for i in (1,n+1) if i%2 == 0])\n",
    "sumofsquare(10)"
   ]
  },
  {
   "cell_type": "markdown",
   "id": "9f8e8a51-ced8-4df4-9dd1-18ee3b2be757",
   "metadata": {},
   "source": [
    "`R-1.6 Python allows negative integers to be used as indices into a sequence, such as a string if string s has length n, and expression s[k] is used for index -n <= k< 0, what is the equivalent index j>=0 such tha s[j] references the same element ?`"
   ]
  },
  {
   "cell_type": "code",
   "execution_count": 12,
   "id": "e815c787-2894-484c-804c-f83269e9644b",
   "metadata": {},
   "outputs": [
    {
     "data": {
      "text/plain": [
       "True"
      ]
     },
     "execution_count": 12,
     "metadata": {},
     "output_type": "execute_result"
    }
   ],
   "source": [
    "l = [0,1,2,3,4]\n",
    "l[-1] == l[4]"
   ]
  },
  {
   "cell_type": "markdown",
   "id": "e3f52baa-6115-413a-bdb1-2e967d915526",
   "metadata": {},
   "source": [
    "`R-1.7 what parametes should be sent to the range constructor, to produce a range with values 8,6,4,2,0,-2,-4,-6,-8 ?`"
   ]
  },
  {
   "cell_type": "code",
   "execution_count": 16,
   "id": "0ce57554-0c87-4768-8109-f33de00b9dd8",
   "metadata": {},
   "outputs": [
    {
     "data": {
      "text/plain": [
       "[8, 6, 4, 2, 0, -2, -4, -6, -8]"
      ]
     },
     "execution_count": 16,
     "metadata": {},
     "output_type": "execute_result"
    }
   ],
   "source": [
    "[ i for i in range(8,-10,-2) ]"
   ]
  },
  {
   "cell_type": "markdown",
   "id": "6bf38577-95ae-42c1-8ac8-7b74a2b66ff4",
   "metadata": {},
   "source": [
    "`R-1.8 Demonstrate how to use pythons list comprehension syntax to produce the list [1,2,4,8,16,32,64,128,256].`"
   ]
  },
  {
   "cell_type": "code",
   "execution_count": 25,
   "id": "99cc674d-97ae-4a03-9e5e-fbcd479dcef7",
   "metadata": {},
   "outputs": [
    {
     "name": "stdout",
     "output_type": "stream",
     "text": [
      "[1, 2, 4, 8, 16, 32, 64, 128, 256]\n"
     ]
    }
   ],
   "source": [
    "powers_of_two = [2 ** i for i in range(9)]\n",
    "print(powers_of_two)"
   ]
  },
  {
   "cell_type": "markdown",
   "id": "5ccfc6f9-dd39-4bc6-804f-5f28cbc8b794",
   "metadata": {},
   "source": [
    "`R-1.9 Python's random module includes a function choice(data) that returns a random element from a non-empty sequence. The random module includes a more basic function randrange, with parameterization similar to the built-in range function, that returns a random choice from the given range. Using only the ranrange function, implement your own version of the choice function.`"
   ]
  },
  {
   "cell_type": "code",
   "execution_count": 120,
   "id": "acd682f6-d711-4392-81ba-06730fbfbfff",
   "metadata": {},
   "outputs": [],
   "source": [
    "l = [1,2,3,]\n",
    "def choice(list):\n",
    "    try:\n",
    "      size = len(list)\n",
    "      from random import randint\n",
    "      return list[randint(0,size)]\n",
    "    except :\n",
    "        return \n",
    "choice(l)"
   ]
  },
  {
   "cell_type": "markdown",
   "id": "59d7e825-5813-4307-b49d-b638c08bb4de",
   "metadata": {},
   "source": [
    "### Creativity"
   ]
  },
  {
   "cell_type": "markdown",
   "id": "a466ccd3-07e1-4fc0-9b6b-3cf08c5327cb",
   "metadata": {},
   "source": [
    "`C1.10 Write a pseudocode description of a function that reverses a list of n integers, so that the numbers are listed in the opposite order than they were before, and compare this method to an equivalent python function for doing the same thing.`"
   ]
  },
  {
   "cell_type": "markdown",
   "id": "efb717e9-e6ef-4041-8f84-29d31666ff1e",
   "metadata": {},
   "source": [
    "    P . Reverse a list of n integers \n",
    "    Inputs and outputs :\n",
    "    1) a empty list\n",
    "    2) a list of random elements \n",
    "    Examples :\n",
    "    []\n",
    "    [1,2,3,41,1,12,3,4,5,6,7,8,] = [8, 7, 6, 5, 4, 3, 12, 1, 41, 3, 2, 1]\n",
    "    Algorithm\n",
    "    loop through the elements reversly and append values to the empty list"
   ]
  },
  {
   "cell_type": "code",
   "execution_count": 134,
   "id": "0b70c78f-2caa-4358-909f-8408ba9d9fe4",
   "metadata": {},
   "outputs": [
    {
     "name": "stdout",
     "output_type": "stream",
     "text": [
      "[]\n"
     ]
    }
   ],
   "source": [
    "res = []\n",
    "for i in range(len(l)-1,-1,-1):\n",
    "    res.append(l[i])\n",
    "print(res)"
   ]
  },
  {
   "cell_type": "markdown",
   "id": "2e15966a-27ab-472b-a101-10fb2ee6601e",
   "metadata": {},
   "source": [
    "`C1.11 Write a short python function that takes a sequence of integer values and determines if there is a distinct pair of consecutive numbers in the sequence whose product is even.`"
   ]
  },
  {
   "cell_type": "code",
   "execution_count": 139,
   "id": "e64ededb-ada3-48b7-a354-41e2722d380e",
   "metadata": {},
   "outputs": [],
   "source": [
    "def distinctPairs(list):\n",
    "    i,j = 0,1\n",
    "    res = []\n",
    "    while j<len(list):\n",
    "        if list[i]!=list[j] and (list[i]*list[j]) %2==0:\n",
    "            res.append((list[i],list[j]))\n",
    "        i+=1\n",
    "        j+=1\n",
    "    return res"
   ]
  },
  {
   "cell_type": "code",
   "execution_count": 144,
   "id": "8f472b72-ce9f-4d52-a557-30f76c8bfc39",
   "metadata": {},
   "outputs": [
    {
     "data": {
      "text/plain": [
       "[]"
      ]
     },
     "execution_count": 144,
     "metadata": {},
     "output_type": "execute_result"
    }
   ],
   "source": [
    "distinctPairs([])"
   ]
  },
  {
   "cell_type": "markdown",
   "id": "4d9dd9fd-99a3-45ea-879f-f13fd4e57925",
   "metadata": {},
   "source": [
    "`C2.12 Write a python function that takes a sequence of numbers and returns the count of unique numbers (that is , numbers that are distinct)`"
   ]
  },
  {
   "cell_type": "code",
   "execution_count": 175,
   "id": "6b132eb1-f87d-4a5d-9888-7d5b4d09eb54",
   "metadata": {},
   "outputs": [
    {
     "name": "stdout",
     "output_type": "stream",
     "text": [
      "2\n"
     ]
    },
    {
     "data": {
      "text/plain": [
       "{1: 5, 2: 1}"
      ]
     },
     "execution_count": 175,
     "metadata": {},
     "output_type": "execute_result"
    }
   ],
   "source": [
    "def distinctCount(list):\n",
    "    res = {}\n",
    "    for l in list:\n",
    "        if l in res:\n",
    "            res[l]+=1\n",
    "        else:\n",
    "            res[l] = 1\n",
    "    for l in res:\n",
    "        if res[l] == 1:\n",
    "            print(l)\n",
    "    return res\n",
    "distinctCount([1,1,1,1,1,2])\n",
    " "
   ]
  },
  {
   "cell_type": "code",
   "execution_count": 209,
   "id": "d966beb6-69f1-4d18-a130-b2d2d2df4324",
   "metadata": {},
   "outputs": [
    {
     "data": {
      "text/plain": [
       "[]"
      ]
     },
     "execution_count": 209,
     "metadata": {},
     "output_type": "execute_result"
    }
   ],
   "source": [
    "def distinctCount(list):\n",
    "    list = sorted(list)\n",
    "    idx1,idx2 = 0,1\n",
    "    res = []\n",
    "    while idx2 < len(list):\n",
    "        if list[idx1] == list[idx2]:\n",
    "            while list[idx1]==list[idx2]:\n",
    "                if idx1 == len(list)-1:\n",
    "                    break\n",
    "                idx1+=1\n",
    "                \n",
    "        elif idx2 == len(list)-1:\n",
    "            res.append(list[idx1])\n",
    "            res.append(list[idx2])\n",
    "            break\n",
    "        else:\n",
    "            res.append(list[idx1])\n",
    "            idx1+=1\n",
    "        idx2=idx1+1\n",
    "    return res\n",
    "distinctCount([0,0,1,])"
   ]
  },
  {
   "cell_type": "markdown",
   "id": "3436b259-60aa-44d5-9b8a-77e5dfb4f610",
   "metadata": {},
   "source": [
    "C-1.13 Had we implemented the scale function as follows, does it work properly?\n",
    "\n",
    "    def scale(data,factor):\n",
    "        for val in data:\n",
    "            val *= factor\n",
    "explain why or why not ?\n"
   ]
  },
  {
   "cell_type": "markdown",
   "id": "816b32e2-3397-4513-b896-2526f20647f0",
   "metadata": {},
   "source": [
    "`C-1.14 Demonstrate how to use Python's list comprehension syntax to produce the list ['a','b','c'...'z'], but without having to type all 26 such characters literally`"
   ]
  },
  {
   "cell_type": "code",
   "execution_count": 5,
   "id": "8ffe9d6d-5a75-4d2c-be11-018d44734347",
   "metadata": {},
   "outputs": [
    {
     "data": {
      "text/plain": [
       "['A',\n",
       " 'B',\n",
       " 'C',\n",
       " 'D',\n",
       " 'E',\n",
       " 'F',\n",
       " 'G',\n",
       " 'H',\n",
       " 'I',\n",
       " 'J',\n",
       " 'K',\n",
       " 'L',\n",
       " 'M',\n",
       " 'N',\n",
       " 'O',\n",
       " 'P',\n",
       " 'Q',\n",
       " 'R',\n",
       " 'S',\n",
       " 'T',\n",
       " 'U',\n",
       " 'V',\n",
       " 'W',\n",
       " 'X',\n",
       " 'Y',\n",
       " 'Z']"
      ]
     },
     "execution_count": 5,
     "metadata": {},
     "output_type": "execute_result"
    }
   ],
   "source": [
    "[chr(i) for i in range(65,65+26)]"
   ]
  },
  {
   "cell_type": "markdown",
   "id": "018dee87-d022-48c4-9386-1700fb0ae7e8",
   "metadata": {},
   "source": [
    "`C-1.15 Python's random module includes a function shuffle(data) that accepts a list of elements and randomly reorders the elements so that each possible order occurs with equal probability. The random module includes a more basic function randint(a,b) that returns  a uniformly random integer from a to b(including both endpoints).Using only the randint function, impleent your own version of the shuffle function.`"
   ]
  },
  {
   "cell_type": "code",
   "execution_count": 122,
   "id": "096543c4-085d-4b32-92cc-651413f5ea9e",
   "metadata": {},
   "outputs": [
    {
     "data": {
      "text/plain": [
       "[4, 2, 3, 1]"
      ]
     },
     "execution_count": 122,
     "metadata": {},
     "output_type": "execute_result"
    }
   ],
   "source": [
    "from random import randint\n",
    "\n",
    "# Shuffle function\n",
    "\"\"\" \n",
    "    1. Problem : shuffle the elements inside a list\n",
    "        Input : list \n",
    "        Output : randomly shuffled list\n",
    "    2. Example Inputs : \n",
    "        a list of sorted elements \n",
    "        a list of unsorted elements\n",
    "        a list with only one element\n",
    "        an empty list\n",
    "    3. PseudoCode:\n",
    "        shuffle(list):\n",
    "            length = len(list)\n",
    "            for i,e in enumerate(list):\n",
    "                idx = random.randint(0,len(list))\n",
    "                list[idx],list[i] = list[i],list[idx]\n",
    "    4. complexity : O(n)\n",
    "\"\"\"\n",
    "def shuffle(elements):\n",
    "    length = len(elements)\n",
    "    for i,e in enumerate(elements):\n",
    "        idx = randint(0,len(elements)-1)\n",
    "        elements[idx],elements[i] = elements[i],elements[idx]\n",
    "    return elements\n",
    "\n",
    "shuffle([1,2,3,4])"
   ]
  },
  {
   "cell_type": "markdown",
   "id": "10c38807-0ae1-48e1-9b37-907670ee0f44",
   "metadata": {},
   "source": [
    "`C-1.16 Write a python program that repeatedly reads lines from standard input until an EOFError is raised, and then outputs those lines in reverse order (a user can indicate end of input by ctrl-D)`"
   ]
  },
  {
   "cell_type": "code",
   "execution_count": 9,
   "id": "4a5e7eff-27c6-4f33-8756-24d8ed3ce259",
   "metadata": {},
   "outputs": [
    {
     "name": "stdin",
     "output_type": "stream",
     "text": [
      " a\n",
      " v\n",
      " b\n",
      " a\n",
      " \\q\n"
     ]
    },
    {
     "name": "stdout",
     "output_type": "stream",
     "text": [
      "abva"
     ]
    }
   ],
   "source": [
    "lines = []\n",
    "try:\n",
    "    while True:\n",
    "        word = input()\n",
    "        if word == '\\q':\n",
    "            break\n",
    "        lines.append(word)\n",
    "except EOFError:\n",
    "    pass\n",
    "\n",
    "for line in reversed(lines):\n",
    "    print(line,end='')"
   ]
  },
  {
   "cell_type": "markdown",
   "id": "76d7e9bb-ccad-4d12-9c4e-78e40a3963a3",
   "metadata": {},
   "source": [
    "`C-1.17 Write a short python program that takes two arrays a and b of length n storing int values, and returns the dot product of a and b. That is, it returns an array c of length n such that c[i] = a[i] b[i], for i=0,...,n-1.`"
   ]
  },
  {
   "cell_type": "code",
   "execution_count": 15,
   "id": "42dbaa22-0c13-4204-b745-babd108a89f6",
   "metadata": {},
   "outputs": [
    {
     "data": {
      "text/plain": [
       "[3, 4, 3]"
      ]
     },
     "execution_count": 15,
     "metadata": {},
     "output_type": "execute_result"
    }
   ],
   "source": [
    "\"\"\" \n",
    "Problem : Find dot product of two arrays with same length\n",
    "Input : Two lists\n",
    "Output : Dot product of two lists\n",
    "\n",
    "Example Inputs and outputs :\n",
    "1. Array1 = [ 1,2,3 ], Array2 = [ 3,2,1 ], output : [ 3,4,3 ]\n",
    "\n",
    "PseudoCode :\n",
    "1. Initialize a new empty array \n",
    "2. loop through the input array\n",
    "3. multiply elements of the arrays at the same index and append that value to the newly created array\n",
    "4. return the newly created array\n",
    "\"\"\"\n",
    "\n",
    "def dot(l1,l2):\n",
    "    return [l1[i]*l2[i] for i in range(len(l1))]\n",
    "dot([ 1,2,3 ],[ 3,2,1 ])"
   ]
  },
  {
   "cell_type": "code",
   "execution_count": null,
   "id": "a67bb3eb-a645-47ca-a7ef-ff531748854e",
   "metadata": {},
   "outputs": [],
   "source": []
  }
 ],
 "metadata": {
  "kernelspec": {
   "display_name": "Python 3 (ipykernel)",
   "language": "python",
   "name": "python3"
  },
  "language_info": {
   "codemirror_mode": {
    "name": "ipython",
    "version": 3
   },
   "file_extension": ".py",
   "mimetype": "text/x-python",
   "name": "python",
   "nbconvert_exporter": "python",
   "pygments_lexer": "ipython3",
   "version": "3.11.2"
  }
 },
 "nbformat": 4,
 "nbformat_minor": 5
}
