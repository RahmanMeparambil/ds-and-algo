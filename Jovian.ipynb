{
 "cells": [
  {
   "cell_type": "markdown",
   "id": "8c54e86f",
   "metadata": {},
   "source": [
    "# PART I"
   ]
  },
  {
   "cell_type": "code",
   "execution_count": 3,
   "id": "104142db",
   "metadata": {},
   "outputs": [
    {
     "data": {
      "application/javascript": [
       "if (window.IPython && IPython.notebook.kernel) IPython.notebook.kernel.execute('jovian.utils.jupyter.get_notebook_name_saved = lambda: \"' + IPython.notebook.notebook_name + '\"')"
      ],
      "text/plain": [
       "<IPython.core.display.Javascript object>"
      ]
     },
     "metadata": {},
     "output_type": "display_data"
    }
   ],
   "source": [
    "from jovian.pythondsa import evaluate_test_case"
   ]
  },
  {
   "cell_type": "code",
   "execution_count": 4,
   "id": "10104875",
   "metadata": {},
   "outputs": [],
   "source": [
    "from random import randint"
   ]
  },
  {
   "cell_type": "markdown",
   "id": "1a0aa23c",
   "metadata": {},
   "source": [
    "# P1 \n",
    "### Alice has some cards with numbers written on them . she arranges the card in decreasing order , and lays the out face down in a sequence on a table . she challenges Bob to pick out the card containing a given number by turning over as few cards as possible . write a function to help Bob locate the card ?"
   ]
  },
  {
   "cell_type": "markdown",
   "id": "9034fedd",
   "metadata": {},
   "source": [
    "## S1\n",
    "### Step1.  Define problem , input & output\n",
    " Problem : Given a sorted list of cards , find a card by turning over as few cards as possible \n",
    "\n",
    " Input : a list of cards and query element\n",
    "\n",
    " Output : index of the list where the card is located at \n"
   ]
  },
  {
   "cell_type": "markdown",
   "id": "ed2d01b1",
   "metadata": {},
   "source": [
    "### Step2. Example input & output\n",
    "#### INPUTS : \n",
    "1 . a long list . \n",
    "\n",
    "2 . a list contains no element . op: -1\n",
    "\n",
    "3 . a list which has no query element .op -1\n",
    "\n",
    "4 . a list in which the query element is at the first position .\n",
    "\n",
    "5 . a list in which the query element is at the last position .\n",
    "\n",
    "6 . a list in which the query element is at the middle postion .\n",
    "\n",
    "7 . a list with multiple query elements .\n"
   ]
  },
  {
   "cell_type": "code",
   "execution_count": 5,
   "id": "0b1ead8f",
   "metadata": {},
   "outputs": [],
   "source": [
    "# check the input format\n",
    "# test1 = {'input':{'cards':[74,58,80,3,69,23,36,48,92,69,14,23,96,40,54,25,10,63,86,22,65,94,33,36,83,93,77,53],'query':3},'output':3}\n",
    "test2 = {'input':{'cards':[],'query':2},'output':-1}\n",
    "test3 = {'input':{'cards':[3,4,5,6,6,4,3,2,21],'query':1},'output':-1}\n",
    "test4 = {'input':{'cards':[1,2,3,4],'query':1},'output':0}\n",
    "test5 = {'input':{'cards':[1,2,3,4],'query':4},'output':3}\n",
    "test6 = {'input':{'cards':[2,3,4,5,6],'query':4},'output':2}\n",
    "test7 = {'input':{'cards':[3,3,4,5,6],'query':3},'output':0}\n",
    "\n",
    "tests = [test2,test3,test4,test5,test6,test7]"
   ]
  },
  {
   "cell_type": "markdown",
   "id": "207cfd25",
   "metadata": {},
   "source": [
    "### Step3. Solution for the problem\n",
    "1 . iterate through the given list\n",
    "\n",
    "\n",
    "2 . if (query == list) element return the postion\n",
    "\n",
    "\n",
    "3 . if end of the list reached return -1"
   ]
  },
  {
   "cell_type": "markdown",
   "id": "b6f225fa",
   "metadata": {},
   "source": [
    "### Step4. Implement the solution, and test all the cases"
   ]
  },
  {
   "cell_type": "code",
   "execution_count": 6,
   "id": "a07907c4",
   "metadata": {},
   "outputs": [],
   "source": [
    "def linear_search(cards,query):\n",
    "    for i in range(len(cards)):\n",
    "        if cards[i] == query:\n",
    "            return i\n",
    "    return -1"
   ]
  },
  {
   "cell_type": "code",
   "execution_count": 7,
   "id": "2f77ae7d",
   "metadata": {},
   "outputs": [
    {
     "name": "stdout",
     "output_type": "stream",
     "text": [
      "True\n",
      "True\n",
      "True\n",
      "True\n",
      "True\n",
      "True\n"
     ]
    }
   ],
   "source": [
    "for test in tests:\n",
    "    print(linear_search(test['input']['cards'],test['input']['query']) == test['output'])"
   ]
  },
  {
   "cell_type": "markdown",
   "id": "5e2e39c4",
   "metadata": {},
   "source": [
    "### Step5. Analyze the complexity\n",
    " Worst case complexity : O(n)\n",
    " \n",
    " Best case complexity : O(1)\n",
    " \n",
    " "
   ]
  },
  {
   "cell_type": "markdown",
   "id": "b1efbf33",
   "metadata": {},
   "source": [
    "\n",
    "### Step6. Implement a better solution ."
   ]
  },
  {
   "cell_type": "markdown",
   "id": "2065342f",
   "metadata": {},
   "source": [
    "#### Binary search algorithm :\n",
    "\n",
    "1. find the middle element of the array . \n",
    "\n",
    "2. return middle element if the middle element of the array is equal to target .\n",
    "\n",
    "3. if the element is smaller than the middle elemnt repeat 1 to 4 using the elements that are left of the array .\n",
    "\n",
    "4. if the elemnt is greater than the middle elemnt repear 1 to 4 using the elements that are right of the array .\n",
    "        "
   ]
  },
  {
   "cell_type": "code",
   "execution_count": 8,
   "id": "52c63f17",
   "metadata": {},
   "outputs": [],
   "source": [
    "def bin_search(arr , target):\n",
    "    \n",
    "    lo , hi = 0 , len(arr)-1\n",
    "    \n",
    "    while lo<=hi:\n",
    "        mid = (lo+hi)//2\n",
    "        \n",
    "        if arr[mid] == target:\n",
    "            return mid\n",
    "        \n",
    "        elif arr[mid] > target:\n",
    "            hi = mid-1\n",
    "            \n",
    "        else:\n",
    "            lo = mid+1\n",
    "            \n",
    "    return -1"
   ]
  },
  {
   "cell_type": "code",
   "execution_count": 9,
   "id": "82ab70d5",
   "metadata": {},
   "outputs": [
    {
     "name": "stdout",
     "output_type": "stream",
     "text": [
      "True\n",
      "True\n",
      "True\n",
      "True\n",
      "True\n",
      "True\n"
     ]
    }
   ],
   "source": [
    "for test in tests:\n",
    "    print(bin_search(test['input']['cards'],test['input']['query']) == test['output'])"
   ]
  },
  {
   "cell_type": "markdown",
   "id": "cd4c827d",
   "metadata": {},
   "source": [
    "#### if the input cards contain multiple query elements , then we can use a helper function , as it can have a multiple answers"
   ]
  },
  {
   "cell_type": "code",
   "execution_count": 10,
   "id": "eb5d7e5a",
   "metadata": {},
   "outputs": [
    {
     "name": "stdout",
     "output_type": "stream",
     "text": [
      "True\n",
      "True\n",
      "True\n",
      "True\n",
      "True\n",
      "True\n"
     ]
    }
   ],
   "source": [
    "def test_location(cards,query,mid):\n",
    "    if cards[mid] == query:\n",
    "        \n",
    "        if mid-1 > 0 and cards[mid-1] == query:\n",
    "            return 'left'\n",
    "        else:\n",
    "            return 'found'\n",
    "        \n",
    "    elif cards[mid] > query:\n",
    "        return 'left'\n",
    "    \n",
    "    else:\n",
    "        return 'right'\n",
    "    \n",
    "def locate_cards(cards,query):\n",
    "    lo,hi = 0 , len(cards)-1\n",
    "    while lo<=hi:\n",
    "        mid = (lo+hi)//2\n",
    "        result = test_location(cards,query,mid)\n",
    "        if result == 'left':\n",
    "            hi = mid-1\n",
    "        elif result == 'right':\n",
    "            lo = mid+1\n",
    "        else:\n",
    "            return mid\n",
    "\n",
    "    return -1\n",
    "\n",
    "for test in tests:\n",
    "    print(bin_search(test['input']['cards'],test['input']['query']) == test['output'])"
   ]
  },
  {
   "cell_type": "markdown",
   "id": "e51b4b2a",
   "metadata": {},
   "source": [
    "### Complexity analysis\n",
    "Worst case : O(log(n))\n",
    "\n",
    "Best case : O(1)"
   ]
  },
  {
   "cell_type": "markdown",
   "id": "89f6af13",
   "metadata": {},
   "source": [
    "\n",
    "# P2\n",
    "\n"
   ]
  },
  {
   "cell_type": "markdown",
   "id": "1a90e04a",
   "metadata": {},
   "source": [
    "### Given an array of integers nums sorted in ascending order, find the starting and ending position of a given target value ? if the target is not found return [-1,-1]"
   ]
  },
  {
   "cell_type": "code",
   "execution_count": 11,
   "id": "85875da3",
   "metadata": {},
   "outputs": [
    {
     "data": {
      "text/plain": [
       "(2, 2)"
      ]
     },
     "execution_count": 11,
     "metadata": {},
     "output_type": "execute_result"
    }
   ],
   "source": [
    "# for ascending and descending order , binary search generic algorihtm\n",
    "def binary_search(lo,hi,condition):\n",
    "    while lo<=hi:\n",
    "        mid = (lo+hi)//2\n",
    "        result = condition(mid)\n",
    "        if result == 'found':\n",
    "            return mid\n",
    "        elif result == 'left':\n",
    "            hi = mid-1\n",
    "        else:\n",
    "            lo = mid+1\n",
    "    return -1\n",
    "\n",
    "def locate_cards(cards,query):\n",
    "    def condition(mid):\n",
    "        if cards[mid] == query:\n",
    "            if mid>0 and cards[mid-1] == query:\n",
    "                return 'left'\n",
    "            return 'found'\n",
    "        elif cards[mid]<query:\n",
    "            return 'left'\n",
    "        else:\n",
    "            return 'right'\n",
    "    return binary_search(0,len(cards)-1,condition)\n",
    "\n",
    "def first_position(nums,target):\n",
    "    def condition(mid):\n",
    "        if nums[mid] == target:\n",
    "            if mid>0 and nums[mid-1] ==target:\n",
    "                return 'left'\n",
    "            return 'found'\n",
    "        elif nums[mid]<target:\n",
    "            return 'left'\n",
    "        else:\n",
    "            return 'right'\n",
    "    return binary_search(0,len(nums)-1,condition)\n",
    "\n",
    "def last_position(nums,target):\n",
    "    def condition(mid):\n",
    "        if nums[mid] == target:\n",
    "            if mid<len(nums)-1 and nums[mid+1] ==target:\n",
    "                return 'right'\n",
    "            return 'found'\n",
    "        elif nums[mid]>target:\n",
    "            return 'right'\n",
    "        else:\n",
    "            return 'left'\n",
    "    return binary_search(0,len(nums)-1,condition)\n",
    "\n",
    "def first_and_last_position(nums,target):\n",
    "    return first_position(nums,target),last_position(nums,target)\n",
    "\n",
    "first_and_last_position(test6['input']['cards'],test6['input']['query'])\n"
   ]
  },
  {
   "cell_type": "markdown",
   "id": "f7a41310",
   "metadata": {},
   "source": [
    "## P4\n",
    "### You are given list of numbers , obtained by rotating a sorted list an unknown number of times . write a function to determine the minimum number of times the original sorted list was rotated to obtain the given list . your function should have the worst case complexity of O(log n) where N is the length of the list . You can assume that all the numbers in the list are unique ."
   ]
  },
  {
   "cell_type": "markdown",
   "id": "cbbfc252",
   "metadata": {},
   "source": [
    "## S4"
   ]
  },
  {
   "cell_type": "code",
   "execution_count": 12,
   "id": "7d059d25",
   "metadata": {},
   "outputs": [],
   "source": [
    "\n",
    "# example inputs and outputs\n",
    "test1 = {'input':{'cards': [3,4,1,2]},'output':2}\n",
    "test2 = {'input':{'cards':[2,3,4,1]},'output':3}\n",
    "test3 = {'input':{'cards':[1,2,3,4]},'output':-1}\n",
    "test4 = {'input':{'cards':[1]},'output':-1}\n",
    "tests = []\n",
    "tests.append([test1,test2,test3,test4])\n",
    "tests = tests[0]\n",
    "\n",
    "# signature\n",
    "def count_rotations(nums):\n",
    "    pass\n"
   ]
  },
  {
   "cell_type": "code",
   "execution_count": 13,
   "id": "06abe320",
   "metadata": {},
   "outputs": [
    {
     "name": "stdout",
     "output_type": "stream",
     "text": [
      "True\n",
      "True\n",
      "True\n",
      "True\n"
     ]
    }
   ],
   "source": [
    "# write the algorithm and implement it\n",
    "#1> set position = 1\n",
    "#2> if input[position-1] > input[position]:\n",
    "#       return position\n",
    "#3> position+=1\n",
    "#4> repeat step 2 to 3 until the end of the loop or the element is found\n",
    "def count_rotations(nums):\n",
    "    position = 1\n",
    "    while position < len(nums):\n",
    "        if nums[position -1] > nums[position]:\n",
    "            return position\n",
    "        position +=1\n",
    "    return -1\n",
    "\n",
    "for test in tests:\n",
    "    print(count_rotations(test['input']['cards']) == test['output'])\n",
    "    "
   ]
  },
  {
   "cell_type": "code",
   "execution_count": 14,
   "id": "1d7b9406",
   "metadata": {},
   "outputs": [
    {
     "name": "stdout",
     "output_type": "stream",
     "text": [
      "True\n",
      "True\n",
      "True\n",
      "True\n"
     ]
    }
   ],
   "source": [
    "# find an efficient way to implement it\n",
    "# binary search algorithm\n",
    "#1> if nums[mid] < nums[mid-1]:\n",
    "#       return 'found'\n",
    "#2> elif nums[mid] < nums[-1]:\n",
    "#       lo = mid+1\n",
    "#3> else:\n",
    "#       hi = mid-1\n",
    "# binary_search_algorithm(mid)\n",
    "\n",
    "test1 = {'input':{'cards': [3,4,1,2]},'output':2}\n",
    "test2 = {'input':{'cards':[2,3,4,1]},'output':3}\n",
    "test3 = {'input':{'cards':[1,2,3,4]},'output':-1}\n",
    "test4 = {'input':{'cards':[1]},'output':-1}\n",
    "tests = []\n",
    "tests.append([test1,test2,test3,test4])\n",
    "tests = tests[0]\n",
    "\n",
    "def binary_search_rotation_counting(nums):\n",
    "    lo,hi = 0 , len(nums)\n",
    "    while lo<hi:\n",
    "        mid = (lo+hi)//2\n",
    "#         print(nums[mid-1])\n",
    "        if  mid > 0 and nums[mid-1] > nums[mid]:\n",
    "            return mid\n",
    "        elif nums[mid] < nums[-1]:\n",
    "            hi = mid-1\n",
    "        else:\n",
    "            lo = mid+1\n",
    "    return -1\n",
    "\n",
    "for test in tests:\n",
    "    print(binary_search_rotation_counting(test['input']['cards']) == test['output'])\n",
    "    \n",
    "    "
   ]
  },
  {
   "cell_type": "markdown",
   "id": "00b3e10a",
   "metadata": {},
   "source": [
    "## P5\n",
    "### As a senior backend engineering at jovian , you are tasked with developing a fast in memory data structure to manage profile info ( username, name and email ) for 100 million users . it should allow the following operations to be performed efficiently ?\n",
    "### 1 . Insert\n",
    "### 2 . Find\n",
    "### 3 . Update\n",
    "### 4 . list"
   ]
  },
  {
   "cell_type": "code",
   "execution_count": 15,
   "id": "38d893b7",
   "metadata": {},
   "outputs": [],
   "source": [
    "# step 1 :\n",
    "# define problemo :    create a binary tree to store all the users . \n",
    "# input : an user object containing user_name , name and email .\n",
    "# output : a tree that contains the input details . "
   ]
  },
  {
   "cell_type": "code",
   "execution_count": 16,
   "id": "a11fab98",
   "metadata": {},
   "outputs": [],
   "source": [
    "# step 2 :\n",
    "# example inputs and outputs\n",
    "class User:\n",
    "    def __init__(self,username,name,email):\n",
    "        self.username = username\n",
    "        self.name = name\n",
    "        self.email = email\n",
    "        self.left = None\n",
    "        self.right = None\n",
    "\n",
    "rahman = User('rahman','Abdu Rahman','rahman821.ar@gmail.com')\n",
    "fasalu = User('fasalu','Fasalu Rahman','fasalu@gmail.com')\n",
    "shamseer = User('shamseer','Mohammed Shamseer','shamsi@gmail.com')\n",
    "badusha = User('badu','Budusha','badsha@gmail.com')"
   ]
  },
  {
   "cell_type": "code",
   "execution_count": 17,
   "id": "5a9c11c0",
   "metadata": {},
   "outputs": [],
   "source": [
    "# step 3 :\n",
    "# Algorithm \n",
    "# 1 . create user objects that contains user_name , name and email\n",
    "# 2 . create tree to store all the objects\n",
    "# 3 . to insert an object , loop through all the branches in the tree check the objects username is greaterthan the name in stored in the branch\n",
    "# 4 . to find an object , loop through all the branches in the tree and return the branch values\n",
    "# 5 . to update an branch , find the that branch and change its values\n",
    "# 6 . to list_all branches , simply return the database . "
   ]
  },
  {
   "cell_type": "code",
   "execution_count": 18,
   "id": "636d10d3",
   "metadata": {},
   "outputs": [],
   "source": [
    "# simple tree\n",
    "class tree:\n",
    "    def __init__(self):\n",
    "        self.users = []\n",
    "        \n",
    "    def insert(self,user):\n",
    "        i = 0\n",
    "        while i < len(self.users):\n",
    "            if self.users[i].username > user.username:\n",
    "                break\n",
    "            i+=1\n",
    "        self.users.insert(i,user)\n",
    "        \n",
    "    def find(self,username):\n",
    "        for user in self.users:\n",
    "            if user.username == username:\n",
    "                return user\n",
    "        \n",
    "    def update(self,user):\n",
    "        target = self.find(user.username)\n",
    "        target.name, target.email = user.name,user.email\n",
    "    \n",
    "    def list_all(self):\n",
    "        return self.users\n",
    "        "
   ]
  },
  {
   "cell_type": "code",
   "execution_count": 19,
   "id": "71bd8d85",
   "metadata": {},
   "outputs": [
    {
     "data": {
      "text/plain": [
       "[<__main__.User at 0x23b79ef1400>,\n",
       " <__main__.User at 0x23b79ef1970>,\n",
       " <__main__.User at 0x23b79ef1e20>,\n",
       " <__main__.User at 0x23b79ef1b80>]"
      ]
     },
     "execution_count": 19,
     "metadata": {},
     "output_type": "execute_result"
    }
   ],
   "source": [
    "# create tree and insert values to the branches\n",
    "users = tree()\n",
    "users.insert(rahman)\n",
    "users.insert(shamseer)\n",
    "users.insert(fasalu)\n",
    "users.insert(badusha)\n",
    "users.list_all()"
   ]
  },
  {
   "cell_type": "code",
   "execution_count": 20,
   "id": "ddc04e35",
   "metadata": {},
   "outputs": [
    {
     "data": {
      "text/plain": [
       "<__main__.User at 0x23b79ef1e20>"
      ]
     },
     "execution_count": 20,
     "metadata": {},
     "output_type": "execute_result"
    }
   ],
   "source": [
    "# find values from the branches\n",
    "users.find('rahman')"
   ]
  },
  {
   "cell_type": "code",
   "execution_count": 21,
   "id": "c0e0fa7c",
   "metadata": {},
   "outputs": [],
   "source": [
    "# update values of branches\n",
    "rahman_updated = User(username = 'rahman',email = 'rahman820.ar@gmail.com',name = 'Abdu Rahman')\n",
    "users.update(User(username = 'rahman',email = 'rahman820.ar@gmail.com',name = 'Abdu Rahman'))\n",
    "# target = users.find('rahman')\n",
    "# target.email"
   ]
  },
  {
   "cell_type": "code",
   "execution_count": 22,
   "id": "be67c55c",
   "metadata": {},
   "outputs": [],
   "source": [
    "# step 4 :\n",
    "# compute complexty\n",
    "# O(n*n)\n",
    "\n",
    "# step 5 : \n",
    "# Applying the right technique to over come the inefficiency .\n",
    "# we can limit the number of iterations required for common operations like find, insert and update by organizing our data .\n",
    "# add additional properties to binary tree."
   ]
  },
  {
   "cell_type": "code",
   "execution_count": 4,
   "id": "227e4f5f",
   "metadata": {},
   "outputs": [],
   "source": [
    "# BST NODE\n",
    "class BSTNode:\n",
    "    def __init__(self , key , value):\n",
    "        self.key = key\n",
    "        self.value = value\n",
    "        self.right = None\n",
    "        self.left = None\n",
    "        self.parent = None\n",
    "    \n",
    "class Node:\n",
    "    def __init__(self,key):\n",
    "        self.key = key\n",
    "        self.right = None\n",
    "        self.left = None\n",
    "        \n",
    "# creating nodes \n",
    "node1 = Node(1)\n",
    "node2 = Node(2)\n",
    "node3 = Node(3)\n",
    "node4 = Node(4)\n",
    "\n",
    "# consturcting nodes\n",
    "node2.left = node1\n",
    "node2.right = node3\n"
   ]
  },
  {
   "cell_type": "code",
   "execution_count": 6,
   "id": "f6b40fba",
   "metadata": {},
   "outputs": [
    {
     "name": "stdout",
     "output_type": "stream",
     "text": [
      "\t3\n",
      "2\n",
      "\t1\n"
     ]
    }
   ],
   "source": [
    "# display the Tree\n",
    "def display_keys(node,space = '\\t' , level = 0):\n",
    "    if node is None:\n",
    "        print(space*level+'')\n",
    "        return\n",
    "    if node.left is None and node.right is None:\n",
    "        print(space*level+str(node.key))\n",
    "        return\n",
    "    display_keys(node.right,space,level+1)\n",
    "    print(space*level+str(node.key))\n",
    "    display_keys(node.left,space,level+1)\n",
    "    \n",
    "display_keys(node2)"
   ]
  },
  {
   "cell_type": "code",
   "execution_count": 25,
   "id": "df5be1d8",
   "metadata": {
    "scrolled": true
   },
   "outputs": [
    {
     "name": "stdout",
     "output_type": "stream",
     "text": [
      "\t\tvishal\n",
      "\tsonaksh\n",
      "\t\t\n",
      "siddhant\n",
      "\t\t\n",
      "\tjadesh\n",
      "\t\t\themanth\n",
      "\t\tbiraj\n",
      "\t\t\t\n"
     ]
    }
   ],
   "source": [
    "# create a binary search tree\n",
    "root = BSTNode('siddhant',3421)\n",
    "\n",
    "# insert function\n",
    "def insert(node , key , value):\n",
    "    if node is None:\n",
    "        node = BSTNode(key,value)\n",
    "        \n",
    "    if key < node.key:\n",
    "        node.left = insert(node.left, key ,value)\n",
    "        node.left.parent = node\n",
    "    \n",
    "    elif key > node.key:\n",
    "        node.right = insert(node.right , key , value)\n",
    "        node.right.parent = node\n",
    "    \n",
    "    return node\n",
    "\n",
    "# insert elements to the node\n",
    "insert(root,'jadesh',3423)\n",
    "insert(root,'biraj',3452)\n",
    "insert(root,'sonaksh',2343)\n",
    "insert(root,'vishal',2343)\n",
    "insert(root,'hemanth',2343)\n",
    "display_keys(root)\n"
   ]
  },
  {
   "cell_type": "code",
   "execution_count": 26,
   "id": "5f7dfa56",
   "metadata": {},
   "outputs": [
    {
     "data": {
      "text/plain": [
       "[1, 2, 3]"
      ]
     },
     "execution_count": 26,
     "metadata": {},
     "output_type": "execute_result"
    }
   ],
   "source": [
    "# list all function - inorder traversal\n",
    "def list_all(node):\n",
    "    if node is None:\n",
    "        return []\n",
    "    return list_all(node.left)+[node.key]+list_all(node.right)\n",
    "list_all(node2)"
   ]
  },
  {
   "cell_type": "code",
   "execution_count": 27,
   "id": "c492b386",
   "metadata": {},
   "outputs": [
    {
     "data": {
      "text/plain": [
       "(False, 4)"
      ]
     },
     "execution_count": 27,
     "metadata": {},
     "output_type": "execute_result"
    }
   ],
   "source": [
    "# the tree created is unbalanced . \n",
    "def is_balanced(node):\n",
    "    if node is None:\n",
    "        return True,0\n",
    "    \n",
    "    balanced_l,height_l = is_balanced(node.left)\n",
    "    balanced_r,height_r = is_balanced(node.right)\n",
    "    \n",
    "    height = 1 + max(height_l,height_r)\n",
    "    balanced = balanced_l and balanced_r and abs(height_l - height_r)<=1\n",
    "    \n",
    "    return balanced,height\n",
    "\n",
    "is_balanced(root)\n"
   ]
  },
  {
   "cell_type": "code",
   "execution_count": 28,
   "id": "e4e5e7bf",
   "metadata": {},
   "outputs": [
    {
     "name": "stdout",
     "output_type": "stream",
     "text": [
      "\t\tmunees\n",
      "\takbar\n",
      "\t\t\n",
      "adib\n",
      "\trahman\n"
     ]
    }
   ],
   "source": [
    "# making balanced BST\n",
    "def make_balanced_bst(data,lo = 0 , hi = None, parent = None):\n",
    "    if hi is None:\n",
    "        hi = len(data) -1 \n",
    "    \n",
    "    if lo > hi:\n",
    "        return None\n",
    "\n",
    "    mid = (lo+hi)//2\n",
    "    key,value = data[mid]\n",
    "    \n",
    "    root = BSTNode(key,value)\n",
    "    root.parent = parent \n",
    "    root.left = make_balanced_bst(data , lo, hi = mid-1 , parent = root)\n",
    "    root.right = make_balanced_bst(data , lo = mid+1,hi= hi, parent = root)\n",
    "    \n",
    "    return root\n",
    "\n",
    "data  = [('rahman',User('rahman','Abdu Rahman','rahman821.ar@gmail.com')), ('adib',User('shamseer','Mohammed Shamseer','shamsi@gmail.com')) , ('akbar',User('fasalu','Fasalu Rahman','fasalu@gmail.com')) ,('munees',User('badu','Budusha','badsha@gmail.com'))]\n",
    "display_keys(make_balanced_bst(data))\n",
    "\n",
    " "
   ]
  },
  {
   "cell_type": "code",
   "execution_count": 29,
   "id": "8f8ea884",
   "metadata": {},
   "outputs": [],
   "source": [
    "# Making an unbalanced BST to balanced BST\n",
    "def balanced_bst(node):\n",
    "    return make_balanced_bst(list_all(node))\n"
   ]
  },
  {
   "cell_type": "code",
   "execution_count": 30,
   "id": "6999d39b",
   "metadata": {},
   "outputs": [
    {
     "name": "stdout",
     "output_type": "stream",
     "text": [
      "\t\tsonaksh\n",
      "\themanth\n",
      "\t\t\n",
      "aakash\n",
      "\t\tbiraj\n",
      "\tjadhesh\n",
      "\t\t\n"
     ]
    }
   ],
   "source": [
    "# test that with other data\n",
    "users = [('jadhesh',User('jadhesh','Jadhesh Kumar','a@gmail.com')),('biraj',User('biraj','Biraj sam','b@gmail.com')),('aakash',User('aakash','aakash boomi','c@gmail.com')) , ('hemanth',User('hemi','Hemanth thakur','d@gmail.com')),('sonaksh',User('sona','sonaksh vallur','e@gmail.com'))]\n",
    "display_keys(make_balanced_bst(users))"
   ]
  },
  {
   "cell_type": "code",
   "execution_count": 31,
   "id": "f431ce6f",
   "metadata": {},
   "outputs": [],
   "source": [
    "# find the value associated with a given key in a BST\n",
    "def find(node,key):\n",
    "    if node is None:\n",
    "        return None\n",
    "    if key == node.key:\n",
    "        return node\n",
    "    if key < node.key:\n",
    "        return find(node.left,key)\n",
    "    if key > node.key:\n",
    "        return find(node.right,key)\n",
    "node = find(root,'rahman')\n",
    "# well the tree created here is not really BST"
   ]
  },
  {
   "cell_type": "code",
   "execution_count": 32,
   "id": "f1d56f64",
   "metadata": {},
   "outputs": [
    {
     "name": "stdout",
     "output_type": "stream",
     "text": [
      "None\n"
     ]
    }
   ],
   "source": [
    "# updating the value\n",
    "def update(node,key,value):\n",
    "    target = find(node,key)\n",
    "    if target is not None:\n",
    "        target.value = value\n",
    "        \n",
    "print(update(root, 'rahman',User('rahman','Rahamn','rahaman@vam.com')))\n",
    "# find the node and verify the value"
   ]
  },
  {
   "cell_type": "markdown",
   "id": "1319493a",
   "metadata": {},
   "source": [
    "## P6\n",
    "#### Define a function tree_to_tuple that converts a binary tree into a tuple representing the same tree ?"
   ]
  },
  {
   "cell_type": "code",
   "execution_count": 7,
   "id": "bf9eb541",
   "metadata": {},
   "outputs": [
    {
     "name": "stdout",
     "output_type": "stream",
     "text": [
      "\t\t6\n",
      "\t5\n",
      "\t\t4\n",
      "4\n",
      "\t\t3\n",
      "\t2\n",
      "\t\t1\n"
     ]
    }
   ],
   "source": [
    "def tuple_to_tree(data):\n",
    "    if isinstance(data,tuple) and len(data)==3:\n",
    "        node = Node(data[1])\n",
    "        node.left = tuple_to_tree(data[0])\n",
    "        node.right = tuple_to_tree(data[2])\n",
    "    elif data is None:\n",
    "        node =None\n",
    "    else:\n",
    "        node = Node(data)\n",
    "    return node\n",
    "data = ((1,2,3),4,(4,5,6))\n",
    "tree = tuple_to_tree(data)\n",
    "display_keys(tree)"
   ]
  },
  {
   "cell_type": "markdown",
   "id": "a1a34a01",
   "metadata": {},
   "source": [
    "## P7\n",
    "#### implements functions for preorder and post order traversal of binary tree ?"
   ]
  },
  {
   "cell_type": "code",
   "execution_count": 34,
   "id": "541e2c90",
   "metadata": {},
   "outputs": [
    {
     "data": {
      "text/plain": [
       "[1, 2, 3]"
      ]
     },
     "execution_count": 34,
     "metadata": {},
     "output_type": "execute_result"
    }
   ],
   "source": [
    "# inorder traversal of the tree\n",
    "def traverse_in_order(node):\n",
    "    if node is None:\n",
    "        return []\n",
    "    return (traverse_in_order(node.left)+[node.key]+traverse_in_order(node.right))\n",
    "traverse_in_order(node2)"
   ]
  },
  {
   "cell_type": "code",
   "execution_count": 35,
   "id": "3b46d2eb",
   "metadata": {},
   "outputs": [
    {
     "data": {
      "text/plain": [
       "[2, 1, 3]"
      ]
     },
     "execution_count": 35,
     "metadata": {},
     "output_type": "execute_result"
    }
   ],
   "source": [
    "# preorder traversal of the tree\n",
    "def traverse_pre_order(node):\n",
    "    if node is None:\n",
    "        return []\n",
    "    return ([node.key]+traverse_pre_order(node.left)+traverse_pre_order(node.right))\n",
    "traverse_pre_order(node2)"
   ]
  },
  {
   "cell_type": "code",
   "execution_count": 36,
   "id": "62ae113b",
   "metadata": {},
   "outputs": [
    {
     "data": {
      "text/plain": [
       "[1, 3, 2]"
      ]
     },
     "execution_count": 36,
     "metadata": {},
     "output_type": "execute_result"
    }
   ],
   "source": [
    "# postorder traversal of the tree\n",
    "def traverse_post_order(node):\n",
    "    if node is None:\n",
    "        return []\n",
    "    return (traverse_post_order(node.left)+traverse_post_order(node.right)+[node.key])\n",
    "traverse_post_order(node2)"
   ]
  },
  {
   "cell_type": "markdown",
   "id": "32e74adf",
   "metadata": {},
   "source": [
    "## P8\n",
    "#### write a function to calculate the height/depth of a binary tree ?"
   ]
  },
  {
   "cell_type": "code",
   "execution_count": 37,
   "id": "f860e4b9",
   "metadata": {},
   "outputs": [
    {
     "data": {
      "text/plain": [
       "1"
      ]
     },
     "execution_count": 37,
     "metadata": {},
     "output_type": "execute_result"
    }
   ],
   "source": [
    "# height of the tree\n",
    "def tree_height(node):\n",
    "    if node is None:\n",
    "        return 0\n",
    "    return 1 + max((tree_height(node.left),tree_height(node.right)))\n",
    "    \n",
    "tree_height(node1)"
   ]
  },
  {
   "cell_type": "markdown",
   "id": "b2d9a554-bea8-4bf5-84ee-8213433a0c2e",
   "metadata": {},
   "source": [
    "    Define a function tree_to_tuple that converts a binary tree into a tuple representing the same tree"
   ]
  },
  {
   "cell_type": "code",
   "execution_count": 9,
   "id": "c4c36eb0-7419-4a7c-8a38-6037bbeb86b9",
   "metadata": {},
   "outputs": [],
   "source": [
    "def tree_to_tuple(node):\n",
    "    if node is None:\n",
    "        return None\n",
    "    if node.left is None and node.right is None:\n",
    "        return node.key\n",
    "    return (tree_to_tuple(node.left),node.key,tree_to_tuple(node.right))"
   ]
  },
  {
   "cell_type": "code",
   "execution_count": 18,
   "id": "0aa883fb-6b9d-4d22-bf58-f45ef70ba163",
   "metadata": {},
   "outputs": [
    {
     "data": {
      "text/plain": [
       "((1, 2, 3), 4, (4, 5, 6))"
      ]
     },
     "execution_count": 18,
     "metadata": {},
     "output_type": "execute_result"
    }
   ],
   "source": [
    "tree_to_tuple(tree)"
   ]
  },
  {
   "cell_type": "markdown",
   "id": "878387cd",
   "metadata": {},
   "source": [
    "\n",
    "\n",
    "# PART II"
   ]
  },
  {
   "cell_type": "markdown",
   "id": "9d9ff281",
   "metadata": {},
   "source": [
    "# Divide And Conquer And Sorting Algorithms\n"
   ]
  },
  {
   "cell_type": "markdown",
   "id": "b63ff370",
   "metadata": {},
   "source": [
    "# P9"
   ]
  },
  {
   "cell_type": "markdown",
   "id": "1dea6222",
   "metadata": {},
   "source": [
    "### Implement python dictionaries from scratch using hash tables"
   ]
  },
  {
   "cell_type": "markdown",
   "id": "1652798d",
   "metadata": {},
   "source": [
    "### Step 1 \n",
    "### Define the problem clearly :"
   ]
  },
  {
   "cell_type": "code",
   "execution_count": 38,
   "id": "b0751843",
   "metadata": {},
   "outputs": [],
   "source": [
    "#Create a list of max_size , insert (key-value) pair in the index that is created using the key .\n",
    "#Define Input and Output\n",
    "#Input : ( key , value ) pair .\n",
    "#Output : index value to store the ( key , value ) pair ."
   ]
  },
  {
   "cell_type": "markdown",
   "id": "98095edc",
   "metadata": {},
   "source": [
    "### Step 2\n",
    "### Example Inputs and Outputs"
   ]
  },
  {
   "cell_type": "code",
   "execution_count": 39,
   "id": "fcc8d6bf",
   "metadata": {},
   "outputs": [
    {
     "data": {
      "text/plain": [
       "{'input': ('rahman', 3452), 'output': 631}"
      ]
     },
     "execution_count": 39,
     "metadata": {},
     "output_type": "execute_result"
    }
   ],
   "source": [
    "\n",
    "data = 4096 * [None]\n",
    "# helper function \n",
    "def get_ord(a_string,data):\n",
    "    result = 0\n",
    "    for a_character in a_string:\n",
    "        result += ord(a_character)\n",
    "        \n",
    "    return result%len(data)\n",
    "\n",
    "# input\n",
    "test1 = {'input':('rahman',3452),'output':get_ord('rahman',data)}\n",
    "test2 = {'input':('shamseer',1234),'output':get_ord('shamseer',data)}\n",
    "# output\n",
    "test1\n"
   ]
  },
  {
   "cell_type": "markdown",
   "id": "7615b1fc",
   "metadata": {},
   "source": [
    "### Step 3 "
   ]
  },
  {
   "cell_type": "markdown",
   "id": "80dd40d3",
   "metadata": {},
   "source": [
    "### Define algorithm"
   ]
  },
  {
   "cell_type": "code",
   "execution_count": 40,
   "id": "6a8520c8",
   "metadata": {},
   "outputs": [],
   "source": [
    "# 1. Create a list of size 4000\n",
    "# 2. Get index using python ord function\n",
    "# 3. Store key,value pair in the index\n",
    "# 4. Get the index using the key \n",
    "# 5. obtain the key,value in the list using that key"
   ]
  },
  {
   "cell_type": "code",
   "execution_count": 41,
   "id": "8e9f8b53",
   "metadata": {},
   "outputs": [],
   "source": [
    "# Hash\n",
    "class HashTable:\n",
    "    def __init__(self):\n",
    "        self.hashtable = [None]*4000\n",
    "                \n",
    "    def get_ord(self,a_string):\n",
    "        result = 0\n",
    "        for a_character in a_string:\n",
    "            result += ord(a_character)\n",
    "        return result%len(self.hashtable)\n",
    "        \n",
    "    def insert(self,key,value):\n",
    "        idx = self.get_ord(key) \n",
    "        self.hashtable[idx] = value\n",
    "  \n",
    "    def find(self,key):\n",
    "        idx = self.get_ord(key)\n",
    "        return self.hashtable[idx]\n",
    "    \n",
    "    def update(self,key,value):\n",
    "        idx = self.get_ord(key)\n",
    "        self.hashtable[idx] = value\n",
    "        \n",
    "    def list_all(self):\n",
    "        return [kv for kv in self.hashtable if kv is not None]\n",
    "        "
   ]
  },
  {
   "cell_type": "code",
   "execution_count": 42,
   "id": "897a9c53",
   "metadata": {},
   "outputs": [
    {
     "data": {
      "text/plain": [
       "[321]"
      ]
     },
     "execution_count": 42,
     "metadata": {},
     "output_type": "execute_result"
    }
   ],
   "source": [
    "# create the table \n",
    "table = HashTable()\n",
    "# insert keys\n",
    "table.insert(key = 'Rahman',value=123)\n",
    "# list all the elements\n",
    "table.list_all()\n",
    "# find the key\n",
    "table.find('Rahman')\n",
    "#update\n",
    "table.update('Rahman',321)\n",
    "table.list_all()"
   ]
  },
  {
   "cell_type": "code",
   "execution_count": 43,
   "id": "731d62b6",
   "metadata": {},
   "outputs": [
    {
     "data": {
      "text/plain": [
       "200"
      ]
     },
     "execution_count": 43,
     "metadata": {},
     "output_type": "execute_result"
    }
   ],
   "source": [
    "# Collisions \n",
    "table.insert('listen',99)\n",
    "table.insert('silent',200)\n",
    "table.find('listen')"
   ]
  },
  {
   "cell_type": "code",
   "execution_count": 44,
   "id": "37a09ccb",
   "metadata": {},
   "outputs": [],
   "source": [
    "# Handling Collisions With Python\n",
    "def get_valid_index(data,key):\n",
    "    idx = get_ord(key)\n",
    "    \n",
    "    while True:\n",
    "        kv = data[idx]\n",
    "        key,value = kv\n",
    "        if data[idx] == None:\n",
    "            return idx\n",
    "        \n",
    "        if data[idx] == key:\n",
    "            return idx\n",
    "        \n",
    "        idx +=1\n",
    "        if idx ==len(data_list):\n",
    "            idx = 0\n"
   ]
  },
  {
   "cell_type": "code",
   "execution_count": 45,
   "id": "5ad1458b",
   "metadata": {},
   "outputs": [],
   "source": [
    "# Hash\n",
    "class NewHashTable:\n",
    "    def __init__(self):\n",
    "        self.hashtable = [None]*4000\n",
    "                \n",
    "    def get_ord(self,a_string):\n",
    "        result = 0\n",
    "        for a_character in a_string:\n",
    "            result += ord(a_character)\n",
    "        return result%len(self.hashtable)\n",
    "    \n",
    "    def get_valid_index(self,key):\n",
    "        idx = self.get_ord(key)\n",
    "        while True:\n",
    "            if self.hashtable[idx] == None:\n",
    "                return idx\n",
    "            k,v = self.hashtable[idx]\n",
    "            if k == key:\n",
    "                return idx\n",
    "            idx +=1\n",
    "            if idx == len(self.hashtable):\n",
    "                idx = 0\n",
    "        \n",
    "    def insert(self,key,value):\n",
    "        idx = self.get_valid_index(key) \n",
    "        self.hashtable[idx] = (key,value)\n",
    "  \n",
    "    def find(self,key):\n",
    "        idx = self.get_valid_index(key)\n",
    "        return self.hashtable[idx]\n",
    "    \n",
    "    def update(self,key,value):\n",
    "        idx = self.get_valid_index(key)\n",
    "        self.hashtable[idx] = value\n",
    "        \n",
    "    def list_all(self):\n",
    "        return [kv for kv in self.hashtable if kv is not None]\n",
    "        "
   ]
  },
  {
   "cell_type": "code",
   "execution_count": 46,
   "id": "b33be882",
   "metadata": {},
   "outputs": [
    {
     "data": {
      "text/plain": [
       "('listen', 99)"
      ]
     },
     "execution_count": 46,
     "metadata": {},
     "output_type": "execute_result"
    }
   ],
   "source": [
    "# Collisions \n",
    "table2 = NewHashTable()\n",
    "table2.insert('listen',99)\n",
    "table2.insert('silent',200)\n",
    "table2.find('listen')"
   ]
  },
  {
   "cell_type": "markdown",
   "id": "8c2c34f5",
   "metadata": {},
   "source": [
    "# P10"
   ]
  },
  {
   "cell_type": "markdown",
   "id": "70bdd4ef",
   "metadata": {},
   "source": [
    "###  Write a program to sort a list of numbers \n"
   ]
  },
  {
   "cell_type": "markdown",
   "id": "082a953e",
   "metadata": {},
   "source": [
    "### Step1"
   ]
  },
  {
   "cell_type": "code",
   "execution_count": 47,
   "id": "cf3b5f3f",
   "metadata": {},
   "outputs": [],
   "source": [
    "# define the problem ,input and output\n",
    "# problem : sort a list of numbers\n",
    "\n",
    "# inputs : \n",
    "# A sorted list\n",
    "# A randomly generated list\n",
    "# list with lot of numbers\n",
    "# list with no elements\n",
    "# list with same elements repeated multiple times\n"
   ]
  },
  {
   "cell_type": "markdown",
   "id": "1321db8b",
   "metadata": {},
   "source": [
    "### Step 2"
   ]
  },
  {
   "cell_type": "code",
   "execution_count": 48,
   "id": "d138805b",
   "metadata": {},
   "outputs": [],
   "source": [
    "import random\n",
    "# example inputs\n",
    "random_input = [random.randint(0,10) for i in range(10)]\n",
    "copy_1 = random_input.copy()\n",
    "random_input2 = [random.randint(0,22) for i in range(2200)]\n",
    "copy_2 = random_input2.copy()\n",
    "random_input3 = [random.randint(0,5) for i in range(10)]\n",
    "copy_3 = random_input3.copy()\n",
    "\n",
    "\n",
    "test1 = {'input':[1,2,3,4,5],'output':[1,2,3,4,5]}\n",
    "\n",
    "test2 = {'input':random_input,'output':sorted(copy_1)}\n",
    "\n",
    "test3 = {'input':random_input2,'output':sorted(copy_2)}\n",
    "\n",
    "test4 = {'input':random_input3,'output':sorted(copy_3)}\n",
    "\n",
    "test5 = {'input':[],'output':[]}\n",
    "\n",
    "test6 = {'input':[2,6,1,2,4,6,8,4,32],'output':[1, 2, 2, 4, 4, 6, 6, 8, 32]}\n",
    "\n",
    "tests = [test1,test2,test3,test4,test5,test6]\n"
   ]
  },
  {
   "cell_type": "markdown",
   "id": "58926cf6",
   "metadata": {},
   "source": [
    "### Step 3"
   ]
  },
  {
   "cell_type": "code",
   "execution_count": 49,
   "id": "514ebd8e",
   "metadata": {},
   "outputs": [],
   "source": [
    "# Algorithm for bubble sort\n",
    "# 1 . set position = 0\n",
    "# 2 . check if the element in that position is smaller than each element in the list\n",
    "# 3 . if it is smaller than the element replace that element\n",
    "# 4 . increment the position , until position < lenght of list"
   ]
  },
  {
   "cell_type": "markdown",
   "id": "447d5c38",
   "metadata": {},
   "source": [
    "### Step 4"
   ]
  },
  {
   "cell_type": "code",
   "execution_count": 50,
   "id": "1e6167ed",
   "metadata": {},
   "outputs": [
    {
     "name": "stdout",
     "output_type": "stream",
     "text": [
      "True\n",
      "True\n",
      "True\n",
      "True\n",
      "True\n",
      "True\n"
     ]
    }
   ],
   "source": [
    "# implement the solution\n",
    "def insertion_sort(data):\n",
    "    position = 0\n",
    "    while position <= len(data)-1:\n",
    "        for i in range(len(data)):\n",
    "            if data[i] > data[position]:\n",
    "                data[position] , data[i] = data[i],data[position]\n",
    "        position +=1\n",
    "    return data\n",
    "\n",
    "for test in tests:\n",
    "    print(insertion_sort(test['input'])==test['output'])"
   ]
  },
  {
   "cell_type": "markdown",
   "id": "d30522fb",
   "metadata": {},
   "source": [
    "### Step 5"
   ]
  },
  {
   "cell_type": "markdown",
   "id": "25525942",
   "metadata": {},
   "source": [
    "$Time complexity$ : $O(n^2)$"
   ]
  },
  {
   "cell_type": "markdown",
   "id": "637c631e",
   "metadata": {},
   "source": [
    "### Step 6"
   ]
  },
  {
   "cell_type": "code",
   "execution_count": 51,
   "id": "effaa29d",
   "metadata": {},
   "outputs": [],
   "source": [
    "# Algorithm \n",
    "#1 . iteratively compare two elements of the string until all the elements is compared .\n",
    "#2 . if one element is greater than another element swap the two elements"
   ]
  },
  {
   "cell_type": "code",
   "execution_count": 52,
   "id": "38ffe872",
   "metadata": {},
   "outputs": [
    {
     "name": "stdout",
     "output_type": "stream",
     "text": [
      "True\n",
      "True\n",
      "True\n",
      "True\n",
      "True\n",
      "True\n"
     ]
    }
   ],
   "source": [
    "# apply the right technique to overcome the inefficiency\n",
    "def bubble_sort(data):\n",
    "    for _ in range(len(data)-1):\n",
    "        for i in range(len(data)-1):\n",
    "            if data[i] > data[i+1]:\n",
    "                data[i],data[i+1] = data[i+1],data[i]\n",
    "    return data\n",
    "for test in tests:\n",
    "    print(insertion_sort(test['input'])==test['output'])"
   ]
  },
  {
   "cell_type": "markdown",
   "id": "617b843a",
   "metadata": {},
   "source": [
    "### Step 7"
   ]
  },
  {
   "cell_type": "markdown",
   "id": "1075eb0f",
   "metadata": {},
   "source": [
    "$TimeComplexity$ : $O(n^2)$"
   ]
  },
  {
   "cell_type": "markdown",
   "id": "787d9d0b",
   "metadata": {},
   "source": [
    "### Step 8"
   ]
  },
  {
   "cell_type": "code",
   "execution_count": 53,
   "id": "53608295",
   "metadata": {},
   "outputs": [],
   "source": [
    "# Algorithm\n",
    "# 1. if the input list is empy or contains just one element, it is alread sorted .\n",
    "# 2. if not , divide the list of numbers into two roughly equal parts\n",
    "# 3. sort each part recursively , using the merge sort algorithm , youll get back two sorted lists. \n",
    "# 4. merge the two sorted lists to get a single sorted list."
   ]
  },
  {
   "cell_type": "code",
   "execution_count": 54,
   "id": "83cc5939",
   "metadata": {},
   "outputs": [
    {
     "name": "stdout",
     "output_type": "stream",
     "text": [
      "True\n",
      "True\n",
      "True\n",
      "True\n",
      "True\n",
      "True\n"
     ]
    }
   ],
   "source": [
    "# Merge Sort\n",
    "def merge_sort(data):\n",
    "    if len(data) <= 1 :\n",
    "        return data\n",
    "    \n",
    "    mid = len(data)//2\n",
    "\n",
    "    \n",
    "    left_sorted , right_sorted = merge_sort(data[:mid]),merge_sort(data[mid:])\n",
    "    \n",
    "    sorted_nums = merge(left_sorted,right_sorted)\n",
    "    return sorted_nums\n",
    "\n",
    "def merge(nums1,nums2):\n",
    "    merged = []\n",
    "    i,j = 0,0\n",
    "    \n",
    "    while i < len(nums1) and j<len(nums2) :\n",
    "        if nums1[i] <= nums2[j]:\n",
    "            merged.append(nums1[i])\n",
    "            i+=1\n",
    "        else:\n",
    "            merged.append(nums2[j])\n",
    "            j+=1\n",
    "    nums1_tail = nums1[i:]\n",
    "    nums2_tail = nums2[j:]\n",
    "    return merged+nums1_tail+nums2_tail\n",
    "\n",
    "for test in tests:\n",
    "    print(merge_sort(test['input']) == test['output'])"
   ]
  },
  {
   "cell_type": "code",
   "execution_count": 55,
   "id": "bebf75d6",
   "metadata": {},
   "outputs": [
    {
     "name": "stdout",
     "output_type": "stream",
     "text": [
      " merge_sort : [1, 2, 3, 4, 5]\n",
      "  merge_sort : [1, 2]\n",
      "   merge_sort : [1]\n",
      "   merge_sort : [2]\n",
      "   merge_sort : [1] [2]\n",
      "  merge_sort : [3, 4, 5]\n",
      "   merge_sort : [3]\n",
      "   merge_sort : [4, 5]\n",
      "    merge_sort : [4]\n",
      "    merge_sort : [5]\n",
      "    merge_sort : [4] [5]\n",
      "   merge_sort : [3] [4, 5]\n",
      "  merge_sort : [1, 2] [3, 4, 5]\n"
     ]
    },
    {
     "data": {
      "text/plain": [
       "[1, 2, 3, 4, 5]"
      ]
     },
     "execution_count": 55,
     "metadata": {},
     "output_type": "execute_result"
    }
   ],
   "source": [
    "# display Merge_sort Operations\n",
    "def merge_sort(nums,depth = 0):\n",
    "    print(' ' *depth ,'merge_sort :',nums)\n",
    "    if len(nums)<2:\n",
    "        return nums\n",
    "    mid = len(nums)//2\n",
    "    return merge(merge_sort(nums[:mid],depth+1),merge_sort(nums[mid:],depth+1),depth+1)\n",
    "\n",
    "def merge(nums1,nums2,depth=0):\n",
    "    print(' '*depth ,'merge_sort :',nums1,nums2)\n",
    "    i,j,merged = 0,0,[]\n",
    "    \n",
    "    while i<len(nums1) and j<len(nums2):\n",
    "        if nums1[i]<=nums2[j]:\n",
    "            merged.append(nums1[i])\n",
    "            i+=1\n",
    "        else:\n",
    "            merged.append(nums2[j])\n",
    "            j+=1\n",
    "    \n",
    "    nums1_tail = nums1[i:]\n",
    "    nums2_tail = nums2[j:]\n",
    "    \n",
    "    return merged+nums1_tail+nums2_tail\n",
    "\n",
    "\n",
    "merge_sort(test1['input'])\n",
    "    "
   ]
  },
  {
   "cell_type": "markdown",
   "id": "51d7819b",
   "metadata": {},
   "source": [
    "### Step 9"
   ]
  },
  {
   "cell_type": "markdown",
   "id": "042a32eb",
   "metadata": {},
   "source": [
    "$TimeComplexity : O(n)$\n",
    "\n",
    "$SpaceComplexity : O(nlogn)$\n"
   ]
  },
  {
   "cell_type": "markdown",
   "id": "60e18492",
   "metadata": {},
   "source": [
    "### Step 10"
   ]
  },
  {
   "cell_type": "code",
   "execution_count": 56,
   "id": "722f1883",
   "metadata": {},
   "outputs": [],
   "source": [
    "# quick sort\n",
    "# 1. if the list is empy or has just one element , return it , its already sorted .\n",
    "# 2. pick a random element from the list . THis element is called a pivot .\n",
    "# 3. reorder the list so that all elements with values less than or equal to the pivot come before the pivot , while all elements . with values greater than the pivot come after it this operation is called partitioning .\n",
    "# 4. the pivot element divides the arra nto two parts which can be sorted independently by making a recursive call to quick sort.\n"
   ]
  },
  {
   "cell_type": "code",
   "execution_count": 1,
   "id": "2af5b808",
   "metadata": {},
   "outputs": [],
   "source": [
    "def quick_sort(nums,start=0,end =None):\n",
    "    if end == None:\n",
    "        nums = list(nums)\n",
    "        end = len(nums)-1\n",
    "    if start < end :\n",
    "        pivot = partitions(nums,start,end)\n",
    "        quick_sort(nums,start,pivot-1)\n",
    "        quick_sort(nums,pivot+1,end)\n",
    "    return nums\n",
    "\n",
    "def partitions(nums,start=0,end=None):\n",
    "    if end == None:\n",
    "        end = len(nums)-1\n",
    "    s,e = start,end-1\n",
    "    while e>s:\n",
    "        if nums[s] <= nums[end]:\n",
    "            s+=1\n",
    "        elif nums[e] > nums[end]:\n",
    "            e-=1\n",
    "        else:\n",
    "            nums[s],nums[e] = nums[e],nums[s]\n",
    "    if nums[s] > nums[end]:\n",
    "        nums[s],nums[end] = nums[end],nums[s]\n",
    "        return s\n",
    "    else:\n",
    "        return end\n",
    "    \n"
   ]
  },
  {
   "cell_type": "code",
   "execution_count": null,
   "id": "5dbdac20",
   "metadata": {},
   "outputs": [
    {
     "name": "stdout",
     "output_type": "stream",
     "text": [
      "True\n",
      "True\n"
     ]
    }
   ],
   "source": [
    "for test in tests:\n",
    "    print(quick_sort(test['input']) == test['output'])\n",
    "# too long i guess"
   ]
  },
  {
   "cell_type": "markdown",
   "id": "db31213a",
   "metadata": {},
   "source": [
    "### Step11"
   ]
  },
  {
   "cell_type": "markdown",
   "id": "d20f4de2",
   "metadata": {},
   "source": [
    "$TimeComplexity : O(n^2)$\n",
    "\n",
    "$SpaceComplexity : O(1)$"
   ]
  },
  {
   "cell_type": "markdown",
   "id": "91908682",
   "metadata": {},
   "source": [
    "# P11"
   ]
  },
  {
   "cell_type": "markdown",
   "id": "b3908057",
   "metadata": {},
   "source": [
    "you are working on a new feature on jovian called 'Top Notebooks of the week ' . write a fucntion to sort a list of notebooks in decreasing order oflikes keep in mind that up to millions of noteooks can be created every week, so your function needs to be as  efficient as possible"
   ]
  },
  {
   "cell_type": "code",
   "execution_count": 9,
   "id": "d9ea4c1b",
   "metadata": {},
   "outputs": [
    {
     "name": "stdout",
     "output_type": "stream",
     "text": [
      "Notebook <physics, likes : 10000, Author : newton>\n"
     ]
    }
   ],
   "source": [
    "class Notebook:\n",
    "    def __init__(self,title,username,likes):\n",
    "        self.title = title\n",
    "        self.likes = likes\n",
    "        self.username = username\n",
    "    \n",
    "    def __repr__(self):\n",
    "        return f'Notebook <{self.title}, likes : {self.likes}, Author : {self.username}>'\n",
    "\n",
    "physics = Notebook('physics','newton',10000)\n",
    "print(physics)"
   ]
  },
  {
   "cell_type": "code",
   "execution_count": 20,
   "id": "5f4ee4a5",
   "metadata": {},
   "outputs": [],
   "source": [
    "# compare likes and name\n",
    "def compare_likes(nb1,nb2):\n",
    "    if nb1.likes > nb2.likes:\n",
    "        return 'lesser'\n",
    "    elif nb1.likes == nb2.likes:\n",
    "        return 'equal'\n",
    "    elif nb1.likes < nb2.likes:\n",
    "        return 'greater'\n",
    "\n",
    "def default_compare(x,y):\n",
    "    if x < y:\n",
    "        return 'less'\n",
    "    elif x == y:\n",
    "        return 'equal'\n",
    "    else:\n",
    "        return 'greater'\n",
    "\n",
    "def merge_sort(objs,compare = default_compare):\n",
    "    if len(objs) < 2:\n",
    "        return objs\n",
    "    mid = len(objs)//2\n",
    "    return merge(merge_sort(objs[:mid]),merge_sort(objs[mid:]),compare)\n",
    "\n",
    "def merge(left,right,compare):\n",
    "    i,j = 0,0 \n",
    "    merged = []\n",
    "    while i<len(left) and j<len(right):\n",
    "        result = compare(left[i],right[j])\n",
    "        if result == 'lesser' or result == 'equal':\n",
    "            merged.append(left[i])\n",
    "            i+=1\n",
    "        if result == 'greater':\n",
    "            merged.append(right[i])\n",
    "            j+=1\n",
    "    return merged+left[i:]+right[j:]\n"
   ]
  },
  {
   "cell_type": "markdown",
   "id": "f177635e",
   "metadata": {},
   "source": [
    "# PART III"
   ]
  },
  {
   "cell_type": "markdown",
   "id": "630148e5",
   "metadata": {},
   "source": [
    "## Recursion And Dynamic Programming"
   ]
  },
  {
   "cell_type": "markdown",
   "id": "eea4c211",
   "metadata": {},
   "source": [
    "## P12"
   ]
  },
  {
   "cell_type": "markdown",
   "id": "8b715cac",
   "metadata": {},
   "source": [
    "Write a function to find the length of the longest common subsequence between two sequences .\n",
    "\n",
    "           eg : Given the strings 'SERENDIPITOUS' and 'PRECIPITATION' , the longest common subsequence is 'REIPITO' and its length is 7 .\n",
    "\n",
    "#### SEQUENCE\n",
    "- A group of items with deterministic ordering  lists , tuples and ranges are some common sequence types in python. \n",
    "\n",
    "- A 'subsequence' is a sequence obtained by deleting or more elements from another sequence .\n",
    "           \n",
    "           eg : 'edpt' is a subsequence of 'serendipitous'\n"
   ]
  },
  {
   "cell_type": "markdown",
   "id": "7040198f",
   "metadata": {},
   "source": [
    "### Step1"
   ]
  },
  {
   "cell_type": "code",
   "execution_count": 23,
   "id": "86bf07fc",
   "metadata": {},
   "outputs": [],
   "source": [
    "# define the problem , input , output\n",
    "# problem : find the length of the longest common subsequence between two sequences . \n",
    "# input : general case\n",
    "#         No common subsequence\n",
    "#         One is a subsequence of other\n",
    "#         One sequence is empty\n",
    "#         Multiple sub sequence with same length"
   ]
  },
  {
   "cell_type": "markdown",
   "id": "9e838e2d",
   "metadata": {},
   "source": [
    "### Step2"
   ]
  },
  {
   "cell_type": "code",
   "execution_count": 32,
   "id": "1b8b892c",
   "metadata": {},
   "outputs": [],
   "source": [
    "# sample inputs\n",
    "t0 = {'input':{'seq1':'SERENDIPITOUS','seq2':'PRECIPITATION'},'output':7}\n",
    "t1 = {'input':{'seq1':[1,3,5,6,7,2,5,2,3],'seq2':[6,2,4,7,1,5,6,2,3]},'output':5}\n",
    "t2 = {'input':{'seq1':'longest','seq2':'stone'},'output':3}\n",
    "t3 = {'input':{'seq1':'asdfwevad','seq2':'opkpoiklklj'},'output':0}\n",
    "tests = [t0,t1,t2,t3]"
   ]
  },
  {
   "cell_type": "markdown",
   "id": "184886f8",
   "metadata": {},
   "source": [
    "### Step3"
   ]
  },
  {
   "cell_type": "code",
   "execution_count": 26,
   "id": "66b9a612",
   "metadata": {},
   "outputs": [],
   "source": [
    "# write Algorithm \n",
    "# 1. initiate idx1 , idx2 = 0, 0\n",
    "# 2. if string1[idx1] == string2[idx2] increment both idx1 , idx2\n",
    "# 3. other wise we have two options, increment one and hold the other . the max value is what we needed."
   ]
  },
  {
   "cell_type": "markdown",
   "id": "930b06a9",
   "metadata": {},
   "source": [
    "### Step 4"
   ]
  },
  {
   "cell_type": "code",
   "execution_count": 41,
   "id": "0c640700",
   "metadata": {},
   "outputs": [
    {
     "name": "stdout",
     "output_type": "stream",
     "text": [
      "True\n",
      "True\n",
      "True\n",
      "True\n"
     ]
    }
   ],
   "source": [
    "def sequence(string1,string2,idx1=0 , idx2 = 0):\n",
    "    if idx1 == len(string1) or idx2 == len(string2):\n",
    "        return 0\n",
    "    elif string1[idx1] == string2[idx2]:\n",
    "        return 1+ sequence(string1,string2,idx1+1,idx2+1)\n",
    "    else:\n",
    "        option1 = sequence(string1,string2,idx1+1,idx2)\n",
    "        option2 = sequence(string1,string2,idx1,idx2+1)\n",
    "        return (max(option1,option2))\n",
    "\n",
    "for test in tests:\n",
    "    print(sequence(test['input']['seq1'],test['input']['seq2'])==test['output'] )"
   ]
  },
  {
   "cell_type": "markdown",
   "id": "7a78a930",
   "metadata": {},
   "source": [
    "### Step 5"
   ]
  },
  {
   "cell_type": "markdown",
   "id": "e4c8e270",
   "metadata": {},
   "source": [
    "$ TimeComplexity : O(2^m)$\n"
   ]
  },
  {
   "cell_type": "markdown",
   "id": "770e0f69",
   "metadata": {},
   "source": [
    "### Step 6"
   ]
  },
  {
   "cell_type": "code",
   "execution_count": 50,
   "id": "fb8a4539",
   "metadata": {},
   "outputs": [
    {
     "name": "stdout",
     "output_type": "stream",
     "text": [
      "True\n",
      "True\n",
      "True\n",
      "True\n"
     ]
    }
   ],
   "source": [
    "# Memorization\n",
    "def lcs_memo(seq1,seq2):\n",
    "    memo = {}\n",
    "    def recursive(idx1 = 0,idx2 = 0):\n",
    "        key = (idx1,idx2)\n",
    "        if key in memo:\n",
    "            return memo[key]\n",
    "        if idx1 == len(seq1) or idx2 == len(seq2):\n",
    "            memo[key] = 0\n",
    "        elif seq1[idx1] == seq2[idx2]:\n",
    "            memo[key] = 1 + recursive(idx1+1,idx1+1)\n",
    "        else:\n",
    "            memo[key] = max(recursive(idx1,idx2+1),recursive(idx1+1,idx2))\n",
    "        return memo[key]\n",
    "    return recursive(0,0)\n",
    "\n",
    "for test in tests:\n",
    "    print(sequence(test['input']['seq1'],test['input']['seq2'])==test['output'] )\n",
    "\n"
   ]
  },
  {
   "cell_type": "code",
   "execution_count": 52,
   "id": "c3db0d5b",
   "metadata": {},
   "outputs": [],
   "source": [
    "# Dynamic Programming Algorithm\n",
    "# 1. create a table of size (n1+1)*(n2+1), where n1,n2 is the size of sequences\n",
    "# 2. table[i][j] , represents the long common sub sequence of seq[:i],seq2[:j]\n",
    "# 3. if seq1[i] and seq2[j] are equal , then table[i+1][j+1] = 1+tabel[i][j]\n",
    "# 4. if seq1[i] and seq2[j] are equa , then tabe[i+1][j+1] = max(table[i][j+1],table[i+1][j])"
   ]
  },
  {
   "cell_type": "code",
   "execution_count": 54,
   "id": "cb1437d9",
   "metadata": {},
   "outputs": [
    {
     "name": "stdout",
     "output_type": "stream",
     "text": [
      "True\n",
      "True\n",
      "True\n",
      "True\n"
     ]
    }
   ],
   "source": [
    "def lcs_dp(seq1,seq2):\n",
    "    n1,n2 = len(seq1,seq2)\n",
    "    table = [ [0 for x in range(n2+1)]for x in range(n+1) ]\n",
    "    \n",
    "    for idx1 in range(n1):\n",
    "        for idx2 in range(n2):\n",
    "            if seq1[idx1] == seq2[idx2]:\n",
    "                table[i+1,j+1] = 1+table[i][j]\n",
    "            else:\n",
    "                table[i+1][j+1] = max(table[i][j+1],table[i+1][j])\n",
    "    return table[-1][-1]\n",
    "    \n",
    "for test in tests:\n",
    "    print(sequence(test['input']['seq1'],test['input']['seq2'])==test['output'] )\n"
   ]
  },
  {
   "cell_type": "markdown",
   "id": "59bb32a6",
   "metadata": {},
   "source": [
    "## 0-1 Knapsack Problem"
   ]
  },
  {
   "cell_type": "markdown",
   "id": "f2f709a3",
   "metadata": {},
   "source": [
    "### P13"
   ]
  },
  {
   "cell_type": "markdown",
   "id": "8ca1fbde",
   "metadata": {},
   "source": [
    "your in charge of selecting a football(soccer) team from a large pool of players . Each player has a cost and rating . you have a limited budget . \n",
    "\n",
    "what is the highest total rating of a team that fits whithin your budget.\n",
    "\n",
    "Assume that theres no minumum or maximum tram size.\n",
    "\n",
    "#### General Problem Statement :\n",
    "- Given an elements , each of which has a weight and a profit, determine the maximim profit that can be obtained by selecting a  subset of elements weighing no more than w .\n",
    "\n"
   ]
  },
  {
   "cell_type": "markdown",
   "id": "4833ddd1",
   "metadata": {},
   "source": [
    "### Step 1"
   ]
  },
  {
   "cell_type": "markdown",
   "id": "76f3258b",
   "metadata": {},
   "source": [
    "#### Define problem :\n",
    "- Given an elements , each of which has a weight and a profit, determine the maximim profit that can be obtained by selecting a subset of elements weighing no more than w\n",
    "\n",
    "#### Input  : \n",
    "- some generic cases\n",
    "- all the elements can be included\n",
    "- None of the elements can be included\n",
    "- Only one of the elements can be included\n",
    "- you do not use the complete capacity\n"
   ]
  },
  {
   "cell_type": "markdown",
   "id": "58adebc7",
   "metadata": {},
   "source": [
    "### Step 2"
   ]
  },
  {
   "cell_type": "code",
   "execution_count": 7,
   "id": "35027a94",
   "metadata": {},
   "outputs": [],
   "source": [
    "# example inputs\n",
    "t0 = {'input':{'capacity':165,'weights':[23,31,29,44,53,38,63,85,89,82],'profits':[92,57,49,68,60,43,67,84,87,72]},'output':309}\n",
    "t2 = {'input':{'capacity':3,'weights':[4,5,6],'profits':[1,2,3]},'output':0}\n",
    "t3 = {'input':{'capacity':4,'weights':[4,5,1],'profits':[1,2,3]},'output':3}\n",
    "t4 = {'input':{'capacity':15,'weights':[4,5,6],'profits':[1,2,3]},'output':6}\n",
    "t5 = {'input':{'capacity':15,'weights':[4,5,1,3,2,5],'profits':[2,3,1,5,4,7]},'output':19}\n",
    "tests = [t0,t2,t3,t4,t5]"
   ]
  },
  {
   "cell_type": "markdown",
   "id": "2e3e805c",
   "metadata": {},
   "source": [
    "### Step 3"
   ]
  },
  {
   "cell_type": "markdown",
   "id": "d07809b5",
   "metadata": {},
   "source": [
    "#### Algorithms :\n",
    "1. we'll write a recursive function that computes , max_profit(weights[idx:],profits[idx:],capacity) with idx starting from 0.\n",
    "2. if weights[idx] > capacity , the current element is cannot be selected so the maximum profit is the same as max_profit(weights[idx+1:],profits[idx+1:],capacity)\n",
    "3. otherwise , there are two possibilities , we either pick weights[idx] or dont we can recursively computer the maximum. \n",
    "    - if we don't pick weights[idx], once again the maximum profit for this case is , max_profit(weights[idx+1:],profits[idx+1],capacity) \n",
    "    - if we pick weights[idx] , the maximum profit for this case is profits[idx]+max_profit(weights[idx+1:],profits[idx+1:],capacity-weights[idx])\n",
    "\n",
    "4. if weight[idx:] is empty , the maximum profit for this case .\n"
   ]
  },
  {
   "cell_type": "code",
   "execution_count": 17,
   "id": "fbb5b8fc",
   "metadata": {},
   "outputs": [
    {
     "name": "stdout",
     "output_type": "stream",
     "text": [
      "True\n",
      "True\n",
      "True\n",
      "True\n",
      "True\n"
     ]
    }
   ],
   "source": [
    "def max_profit_recursive(weights,profits,capacity,idx=0):\n",
    "    if idx == len(weights):\n",
    "        return 0\n",
    "    elif weights[idx] > capacity:\n",
    "        return max_profit_recursive(weights,profits,capacity,idx=idx+1)\n",
    "    else:\n",
    "        option1 = profits[idx]+max_profit_recursive(weights,profits,capacity-weights[idx],idx+1)\n",
    "        option2 = max_profit_recursive(weights,profits,capacity,idx+1)\n",
    "        return max(option1,option2)\n",
    "    \n",
    "for test in tests:\n",
    "    print(max_profit_recursive(test['input']['weights'],test['input']['profits'],test['input']['capacity'],idx = 0)==test['output'])"
   ]
  },
  {
   "cell_type": "markdown",
   "id": "9a9e3362",
   "metadata": {},
   "source": [
    "#### Dynamic Programming Algorithm :\n",
    "1. Create a table of size (n+1)*capacity+1 consisting of all 0's, where n is the number of elements , table[i][c] represents the maximum profit that can be obtained using the first i elements if the maximum capacity is c.( the zeroth row will comtain all zeroes and id not shown above)\n",
    "2. we'll fill the table row and column by column , table[i][c] can be filled using some values in the row above it.\n",
    "3. if weights[i] > c , ie, if the current element is larger than capacity ,then , table [i+1][c] is simply equa o table[i][c] (since thers no way we can pick this elemtns)"
   ]
  },
  {
   "cell_type": "code",
   "execution_count": 25,
   "id": "3d100d59",
   "metadata": {},
   "outputs": [
    {
     "name": "stdout",
     "output_type": "stream",
     "text": [
      "True\n",
      "True\n",
      "True\n",
      "True\n",
      "True\n"
     ]
    }
   ],
   "source": [
    "def max_profit_dp(weights,profits,capacity):\n",
    "    n = len(weights)\n",
    "    table = [[0 for _ in range(capacity+1)] for _ in range(n+1)]\n",
    "    \n",
    "    for i in range(n):\n",
    "        for c in range(1, capacity+1):\n",
    "            if weights[i] > c:\n",
    "                table[i+1][c] = table[i][c]\n",
    "            else:\n",
    "                table[i+1][c] = max(table[i][c],profits[i]+table[i][c-weights[i]])\n",
    "    return table[-1][-1]\n",
    "\n",
    "for test in tests:\n",
    "    print(max_profit_dp(test['input']['weights'],test['input']['profits'],test['input']['capacity']) == test['output'])"
   ]
  },
  {
   "cell_type": "markdown",
   "id": "01d91e14",
   "metadata": {},
   "source": [
    "# Graph Algorithms"
   ]
  },
  {
   "cell_type": "code",
   "execution_count": 4,
   "id": "e347e0b8",
   "metadata": {},
   "outputs": [],
   "source": [
    "#  constructing a graph data structures\n",
    "class Graph:\n",
    "    def __init__(self,num_nodes,edges):\n",
    "        self.num_nodes = num_nodes\n",
    "        self.data = [[] for _ in range(num_nodes)]\n",
    "        for n1,n2 in edges:\n",
    "            self.data[n1].append(n2)\n",
    "            self.data[n2].append(n1)\n",
    "    \n",
    "    def __repr__(self):\n",
    "        return f'Edges :{edges} \\nAdjaceny_list :{graph1.data}'\n",
    "    \n",
    "    def __str__(self):\n",
    "        return self.__repr__()"
   ]
  },
  {
   "cell_type": "code",
   "execution_count": 5,
   "id": "1c26b08a",
   "metadata": {},
   "outputs": [
    {
     "data": {
      "text/plain": [
       "Edges :[(0, 1), (0, 4), (1, 4), (1, 3), (1, 2), (2, 3)] \n",
       "Adjaceny_list :[[1, 4], [0, 4, 3, 2], [1, 3], [1, 2], [0, 1]]"
      ]
     },
     "execution_count": 5,
     "metadata": {},
     "output_type": "execute_result"
    }
   ],
   "source": [
    "# creating a graph\n",
    "num_nodes = 5\n",
    "edges = [(0,1),(0,4),(1,4),(1,3),(1,2),(2,3)]\n",
    "graph1 = Graph(num_nodes,edges)\n",
    "graph1"
   ]
  },
  {
   "cell_type": "markdown",
   "id": "4985c457",
   "metadata": {},
   "source": [
    "### P 14"
   ]
  },
  {
   "cell_type": "markdown",
   "id": "a315f9f9",
   "metadata": {},
   "source": [
    "    write a function to add an edge to a graph represented as an adjaceny list."
   ]
  },
  {
   "cell_type": "code",
   "execution_count": 56,
   "id": "02a6aa0f",
   "metadata": {},
   "outputs": [],
   "source": [
    "#step1 \n",
    "# problem : add an edge to a graph represented as an adjacency list\n",
    "# input : a generic case\n",
    "        "
   ]
  },
  {
   "cell_type": "code",
   "execution_count": 54,
   "id": "ca028c02",
   "metadata": {},
   "outputs": [],
   "source": [
    "# step2 \n",
    "# example inputs\\\n",
    "test0 = {'input':(1,5),'output':[[1, 4], [0, 4, 3, 2, 5 ], [1, 3], [1, 2], [0, 1], [1]]}\n"
   ]
  },
  {
   "cell_type": "code",
   "execution_count": 58,
   "id": "e040a0c8",
   "metadata": {},
   "outputs": [],
   "source": [
    "# step3\n",
    "# algorithm\n",
    "# 1. add the elements both to those indexes"
   ]
  },
  {
   "cell_type": "code",
   "execution_count": 24,
   "id": "56640862",
   "metadata": {},
   "outputs": [
    {
     "data": {
      "text/plain": [
       "[[1, 4], [0, 4, 3, 2], [1, 3], [1, 2], [0, 1]]"
      ]
     },
     "execution_count": 24,
     "metadata": {},
     "output_type": "execute_result"
    }
   ],
   "source": [
    "# step4\n",
    "def insert(graph,edge):\n",
    "    i,j = edge\n",
    "\n",
    "    new_node = max(edge) \n",
    "\n",
    "    if new_node < len(graph.data) and new_node not in graph.data[i]:\n",
    "        graph.data[i].append(j)\n",
    "        graph.data[j].append(i)\n",
    "        \n",
    "    return graph.data\n",
    "insert(graph1,(1,2))"
   ]
  },
  {
   "cell_type": "markdown",
   "id": "014c07ae",
   "metadata": {},
   "source": [
    "### P 15"
   ]
  },
  {
   "cell_type": "markdown",
   "id": "3753578e",
   "metadata": {},
   "source": [
    "    write a function to remove an edge from a graph represented as a adjucency list ."
   ]
  },
  {
   "cell_type": "markdown",
   "id": "efc03d7f",
   "metadata": {},
   "source": [
    "### Step1"
   ]
  },
  {
   "cell_type": "markdown",
   "id": "8d4c3d83",
   "metadata": {},
   "source": [
    " ####  PROBLEM :\n",
    "    - Remove an edge from a graph .\n",
    "    - To remove an edge from the graph, go to adjacent list and removes both nodes of that edge .\n",
    "\n",
    "#### INPUTS :\n",
    "    - Generic case\n",
    "    - Edge not in the list\n",
    "    - Edges are empty"
   ]
  },
  {
   "cell_type": "markdown",
   "id": "78e81711",
   "metadata": {},
   "source": [
    "### Step 2"
   ]
  },
  {
   "cell_type": "code",
   "execution_count": 25,
   "id": "7065ef08",
   "metadata": {},
   "outputs": [],
   "source": [
    "# example Inputs\n",
    "\n",
    "# [(0, 1), (0, 4), (1, 4), (1, 3), (1, 2), (2, 3)]\n",
    "t0 = (0,1) # generic cse\n",
    "t1 = (3,9) # edge not in the list\n"
   ]
  },
  {
   "cell_type": "markdown",
   "id": "186464bd",
   "metadata": {},
   "source": [
    "### Step 3"
   ]
  },
  {
   "cell_type": "markdown",
   "id": "1cfff73b",
   "metadata": {},
   "source": [
    "#### ALGO\n",
    "    - for i,j in edge , go to graph.data[i]  and remove j , viz"
   ]
  },
  {
   "cell_type": "markdown",
   "id": "6ab3febb",
   "metadata": {},
   "source": [
    "### Step 4"
   ]
  },
  {
   "cell_type": "code",
   "execution_count": 46,
   "id": "e591c477",
   "metadata": {},
   "outputs": [
    {
     "data": {
      "text/plain": [
       "[[1, 4], [0, 4, 3], [3], [1, 2], [0, 1]]"
      ]
     },
     "execution_count": 46,
     "metadata": {},
     "output_type": "execute_result"
    }
   ],
   "source": [
    "def remove_edge(graph,edge):\n",
    "    a,b = edge\n",
    "    if a > len(graph.data) or b > len(graph.data):\n",
    "        return graph.data\n",
    "    \n",
    "    for i in range(len(graph.data[a])):\n",
    "        if graph.data[a][i] == b :\n",
    "            graph.data[a].pop(i)\n",
    "    for j in range(len(graph.data[b])-1) :\n",
    "        if graph.data[b][j] == a :\n",
    "            graph.data[b].pop(j)\n",
    "    return graph.data\n",
    "            \n",
    "remove_edge(graph1,(1,2))"
   ]
  },
  {
   "cell_type": "code",
   "execution_count": 42,
   "id": "51f0a442",
   "metadata": {},
   "outputs": [],
   "source": [
    "# [[1, 4], [0, 4, 3, 2], [1, 3], [1, 2], [0, 1]]"
   ]
  },
  {
   "cell_type": "code",
   "execution_count": 47,
   "id": "1971ef21",
   "metadata": {},
   "outputs": [
    {
     "data": {
      "text/plain": [
       "[[1, 4], [0, 4, 3], [3], [1, 2], [0, 1]]"
      ]
     },
     "execution_count": 47,
     "metadata": {},
     "output_type": "execute_result"
    }
   ],
   "source": [
    "remove_edge(graph1,(3,9))"
   ]
  },
  {
   "cell_type": "markdown",
   "id": "79b7c832",
   "metadata": {},
   "source": [
    "### P 16"
   ]
  },
  {
   "cell_type": "markdown",
   "id": "a025dd60",
   "metadata": {},
   "source": [
    "    represent a graph as an adjacency matrix in python ."
   ]
  },
  {
   "cell_type": "code",
   "execution_count": 55,
   "id": "ac3851e8",
   "metadata": {},
   "outputs": [
    {
     "data": {
      "text/plain": [
       "[[0, 1, 0, 0, 1],\n",
       " [1, 0, 0, 1, 1],\n",
       " [0, 0, 0, 1, 0],\n",
       " [0, 1, 1, 0, 0],\n",
       " [1, 1, 0, 0, 0]]"
      ]
     },
     "execution_count": 55,
     "metadata": {},
     "output_type": "execute_result"
    }
   ],
   "source": [
    "def adj_matrix(graph):\n",
    "    mat = [[0 for i in range(len(graph.data))]for j in range(len(graph.data))]\n",
    "    for i in range(len(graph.data)) :\n",
    "        for j in graph.data[i] :\n",
    "            mat[i][j] = 1\n",
    "    return mat\n",
    "adj_matrix(graph1)\n"
   ]
  },
  {
   "cell_type": "markdown",
   "id": "ba5128b8",
   "metadata": {},
   "source": [
    "### P 17"
   ]
  },
  {
   "cell_type": "markdown",
   "id": "29bf544b",
   "metadata": {},
   "source": [
    "    Implement BFS given a source node in a graph using python ."
   ]
  },
  {
   "cell_type": "markdown",
   "id": "10493739",
   "metadata": {},
   "source": [
    "### Step 1"
   ]
  },
  {
   "cell_type": "code",
   "execution_count": 56,
   "id": "f106ec57",
   "metadata": {},
   "outputs": [],
   "source": [
    "# problem  : implement Breadth First search \n",
    "#            BFS - search level by level . \n",
    "# input    : a graph\n",
    "# ouput    : smallest path to the target ."
   ]
  },
  {
   "cell_type": "markdown",
   "id": "32dee7a3",
   "metadata": {},
   "source": [
    "### Step 2"
   ]
  },
  {
   "cell_type": "code",
   "execution_count": 57,
   "id": "62d16d4d",
   "metadata": {},
   "outputs": [],
   "source": [
    "# examples\n",
    "t0 = graph1"
   ]
  },
  {
   "cell_type": "markdown",
   "id": "64cf1eb9",
   "metadata": {},
   "source": [
    "### Step 3"
   ]
  },
  {
   "cell_type": "markdown",
   "id": "15caa600",
   "metadata": {},
   "source": [
    "#### ALGO\n",
    "    1. let Q be queue \n",
    "    2. label root as discovered \n",
    "    3. Q.enque(root)\n",
    "    4. while Q in not empy do \n",
    "        v:=Q.dequeue()\n",
    "\n",
    "        if v is the goal then \n",
    "            return v\n",
    "        for all edges from v to w in c.adjacentEdges(v) do \n",
    "            if w is not labelled as discovered then \n",
    "                label w as discovered \n",
    "                Q.enqueue(w)"
   ]
  },
  {
   "cell_type": "markdown",
   "id": "db217582",
   "metadata": {},
   "source": [
    "### Step 4"
   ]
  },
  {
   "cell_type": "code",
   "execution_count": 63,
   "id": "ef6cc0d4",
   "metadata": {},
   "outputs": [
    {
     "data": {
      "text/plain": [
       "([2, 3, 1, 0, 4], [1, 3, None, 2, 1], [3, 2, 0, 1, 3])"
      ]
     },
     "execution_count": 63,
     "metadata": {},
     "output_type": "execute_result"
    }
   ],
   "source": [
    "# BFS\n",
    "def BFS(graph,root):\n",
    "    # init\n",
    "    queue = []\n",
    "    discovered = [False]*len(graph.data)\n",
    "    parent = [None]*len(graph.data)\n",
    "    distance = [None]*len(graph.data)\n",
    "    \n",
    "    # add root\n",
    "    queue.append(root)\n",
    "    discovered[root] = True\n",
    "    distance[root] = 0\n",
    "    \n",
    "    # init index\n",
    "    idx = 0\n",
    "    \n",
    "    # heart\n",
    "    while idx < len(graph.data) :\n",
    "        current = queue[idx]\n",
    "        idx +=1\n",
    "        for node in graph.data[current]:\n",
    "            if not discovered[node] :\n",
    "                distance[node] = 1+ distance[current]\n",
    "                parent[node] = current\n",
    "                discovered[node] = True\n",
    "                queue.append(node)\n",
    "    return queue , parent, distance\n",
    "\n",
    "BFS(graph1,2)"
   ]
  },
  {
   "cell_type": "markdown",
   "id": "34cbd98c",
   "metadata": {},
   "source": [
    "### P 18"
   ]
  },
  {
   "cell_type": "markdown",
   "id": "34478c4e",
   "metadata": {},
   "source": [
    "    -implement depth first search from a given node in a graph using python"
   ]
  },
  {
   "cell_type": "markdown",
   "id": "ddefa6f4",
   "metadata": {},
   "source": [
    "#### ALGO\n",
    "    procedure DFS_iterative(G,V) is \n",
    "    1. let s be a stack\n",
    "    2. S.push(v)\n",
    "    3. while S is not empty do\n",
    "        v = S.pop()\n",
    "        if v is not labaled as discovered then ,\n",
    "            label v as discovered\n",
    "            for all edges from v to w in G.adjacentEdges(v) do \n",
    "                S.push(w)"
   ]
  },
  {
   "cell_type": "code",
   "execution_count": 71,
   "id": "9417c9ac",
   "metadata": {},
   "outputs": [],
   "source": [
    "def DFS(graph,root):\n",
    "    stack = []\n",
    "    discovered = [False] * len(graph.data)\n",
    "    result = []\n",
    "    stack.append(root)\n",
    "    \n",
    "    while len(stack) > 0:\n",
    "        current = stack.pop()\n",
    "        if not discovered[current] :\n",
    "            discovered[current] = True\n",
    "            result.append(current)\n",
    "            \n",
    "            for node in graph.data[current] :\n",
    "                if not discovered[node] :\n",
    "                    stack.append(node)\n",
    "    return result"
   ]
  },
  {
   "cell_type": "code",
   "execution_count": 70,
   "id": "3901de96",
   "metadata": {},
   "outputs": [
    {
     "data": {
      "text/plain": [
       "[2, 3, 1, 4, 0]"
      ]
     },
     "execution_count": 70,
     "metadata": {},
     "output_type": "execute_result"
    }
   ],
   "source": [
    "DFS(graph1,2)"
   ]
  },
  {
   "cell_type": "markdown",
   "id": "329f8b61",
   "metadata": {},
   "source": [
    "### P19"
   ]
  },
  {
   "cell_type": "markdown",
   "id": "cd9ed6ed",
   "metadata": {},
   "source": [
    "    write a function to detect a cycle in a graph "
   ]
  },
  {
   "cell_type": "code",
   "execution_count": 73,
   "id": "1eb5ad17",
   "metadata": {},
   "outputs": [
    {
     "data": {
      "text/plain": [
       "Edges :[(0, 1), (0, 2), (0, 3), (3, 4), (1, 2)] \n",
       "Adjaceny_list :[[1, 4], [0, 4, 3], [3], [1, 2], [0, 1]]"
      ]
     },
     "execution_count": 73,
     "metadata": {},
     "output_type": "execute_result"
    }
   ],
   "source": [
    "# Graph\n",
    "num_nodes = 5\n",
    "edges = [(0,1),(0,2),(0,3),(3,4),(1,2)]\n",
    "graph2 = Graph(num_nodes,edges)\n",
    "graph2"
   ]
  },
  {
   "cell_type": "markdown",
   "id": "d45cee9e",
   "metadata": {},
   "source": [
    "    ALGO\n",
    "        1. find root index of adjacency_list .\n",
    "        2. check adjaceny of other elements in that index , increment the pointer .\n",
    "        3. go through each elements and check whether it points back to root , and pointer should be greater than 2 ."
   ]
  },
  {
   "cell_type": "code",
   "execution_count": 82,
   "id": "e603309c",
   "metadata": {},
   "outputs": [],
   "source": [
    "def cycle(graph,root):\n",
    "    q = []\n",
    "    point = 0\n",
    "    def loop(graph,node):\n",
    "        pass\n",
    "            "
   ]
  },
  {
   "cell_type": "markdown",
   "id": "e1fa14b0",
   "metadata": {},
   "source": [
    "### P 20"
   ]
  },
  {
   "cell_type": "markdown",
   "id": "98b07d82",
   "metadata": {},
   "source": [
    "    write a function to detect number of cycle in a path "
   ]
  },
  {
   "cell_type": "markdown",
   "id": "edd51045",
   "metadata": {},
   "source": [
    "### P21"
   ]
  },
  {
   "cell_type": "markdown",
   "id": "fd72b0e3",
   "metadata": {},
   "source": [
    "    Define a class to represent weighted and directed graphs in python \n",
    "    "
   ]
  },
  {
   "cell_type": "code",
   "execution_count": 18,
   "id": "a2540388",
   "metadata": {
    "scrolled": true
   },
   "outputs": [
    {
     "data": {
      "text/plain": [
       "0:[1, 3, 8]\n",
       "1:[0, 7]\n",
       "2:[7, 3, 5]\n",
       "3:[0, 2, 4]\n",
       "4:[3, 8]\n",
       "5:[2, 6]\n",
       "6:[5]\n",
       "7:[1, 2]\n",
       "8:[0, 4]"
      ]
     },
     "execution_count": 18,
     "metadata": {},
     "output_type": "execute_result"
    }
   ],
   "source": [
    "class Graph:\n",
    "    def __init__(self,num_nodes,edges,directed = False,weighted = False):\n",
    "        self.num_nodes = num_nodes\n",
    "        self.directed = directed\n",
    "        self.weighted = weighted\n",
    "        self.data = [[] for _ in range(num_nodes)]\n",
    "        self.weight = [[] for _ in range(num_nodes)]\n",
    "        \n",
    "        for edge in edges :\n",
    "            if self.weighted :\n",
    "                node1,node2,weight = edge\n",
    "                self.data[node1].append(node2)\n",
    "                self.weight[node1].append(node2)\n",
    "                \n",
    "                if not directed :\n",
    "                    self.data[node2].append(node1)\n",
    "                    self.weight[node2].append(weight)\n",
    "            else :\n",
    "                node1,node2 = edge\n",
    "                self.data[node1].append(node2)\n",
    "                \n",
    "                if not directed :\n",
    "                    self.data[node2].append(node1)\n",
    "    def __repr__(self):\n",
    "        result = ''\n",
    "        if self.weighted:\n",
    "            for i ,(nodes,weights) in enumerate(zip(self.data,self.weight)) :\n",
    "                result +='{}:{}\\n'.format(i,nodes)\n",
    "        else:\n",
    "            for i , nodes in enumerate(self.data):\n",
    "                result += '{}:{}\\n'.format(i,nodes)\n",
    "        return result\n",
    "\n",
    "num_nodes = 9\n",
    "edges = [(0,1,3) , (0,3,2) , (0,8,4), (1,7,4),(2,7,2),(2,3,6),(2,5,1), (3,4,1),(4,8,8),(5,6,8)]\n",
    "graph2 = Graph(num_nodes,edges,weighted =True)\n",
    "graph2"
   ]
  },
  {
   "cell_type": "markdown",
   "id": "bb8830af",
   "metadata": {},
   "source": [
    "### P22"
   ]
  },
  {
   "cell_type": "markdown",
   "id": "0e28a840",
   "metadata": {},
   "source": [
    "    write a function to find the length of the shortes path between two nodes in weighted directed graph"
   ]
  },
  {
   "cell_type": "markdown",
   "id": "0abfb92d",
   "metadata": {},
   "source": [
    "### Solution"
   ]
  },
  {
   "cell_type": "markdown",
   "id": "4aefa3f8",
   "metadata": {},
   "source": [
    "###    Djkstras Algorithm\n",
    "        1. mark all the nodes as unvisited . create a set of all the unvisited nodes called unvisited set.\n",
    "        2. assign to every node a tentative distance value . \n",
    "        3.set it to zero for out initial node and to infinity for all other nodes. set the ini node as current .\n",
    "        4. for the current node,consider all of its unvisited neighbours and calculate thier tentactive distances through the current node .compare the newly calculated tentative distance to the assigned value and assign the smaller one.\n",
    "        5. when we are done considering all of the unvisited neighbours of the current node as visited and remoe it from the unvisited set.\n",
    "        6.if the destination node has marked visited or if the smallest tentative distance among the nodes in the unvisited set is infinity thn stop , the algo has finished .\n",
    "        7. otherwise , select the unvisited node that is marked with the smallest tentative distance , set it as the user ' current node' and go back to step3"
   ]
  },
  {
   "cell_type": "code",
   "execution_count": 11,
   "id": "9ef3870e",
   "metadata": {},
   "outputs": [],
   "source": [
    "def shortest_path(graph,source,target) :\n",
    "    visited = [False]*len(graph.data)\n",
    "    distance = [flot('inf')]*len(graph.data)\n",
    "    parent = [None]*len(graph.data)\n",
    "    q = []\n",
    "    \n",
    "    q.append(source)\n",
    "    distance[source] = 0\n",
    "    idx = 0 \n",
    "    \n",
    "    while idx < len(q) and not visited[target] :\n",
    "        current = q[idx]\n",
    "        idx+=1\n",
    "        update_distances(graph,current,distance)\n",
    "        next_node = pick_next_node(distance,visited)\n",
    "    \n",
    "def update_distances(graph,current , distance,parent = None):\n",
    "    ' update the distances of the current node nieghbours '\n",
    "    neighbours = graph.data[current]\n",
    "    weights = graph.weight[current]\n",
    "    \n",
    "    for i,node in enumerate(neighbours) :\n",
    "        weight = weights[i]\n",
    "        if distance[current] + weight < distance[node]:\n",
    "            distance[node] = distance[current] + weight\n",
    "            if parent :\n",
    "                parent[node] = current\n",
    "                \n",
    "def pick_next_node(distance,visited):\n",
    "    min_distance = float('inf')\n",
    "    min_node = None\n",
    "    for node in  range(len(distance)) :\n",
    "        if not visited[node] and distance[node] < min_distance :\n",
    "            min_node = node\n",
    "            min_distance = distance[node]\n",
    "    return min_node"
   ]
  },
  {
   "cell_type": "code",
   "execution_count": 30,
   "id": "bc6b03ef",
   "metadata": {},
   "outputs": [
    {
     "data": {
      "text/plain": [
       "0:[1, 2]\n",
       "1:[2, 3]\n",
       "2:[4]\n",
       "3:[]\n",
       "4:[3]\n",
       "5:[]"
      ]
     },
     "execution_count": 30,
     "metadata": {},
     "output_type": "execute_result"
    }
   ],
   "source": [
    "num_node7 = 6\n",
    "edges7 = [(0,1,4),(0,2,2),(1,2,5),(1,3,10),(2,4,3),(4,3,4)]\n",
    "graph2 = Graph(num_node7,edges7,weighted =True,directed = True)\n",
    "graph2"
   ]
  },
  {
   "cell_type": "markdown",
   "id": "b4ac4521",
   "metadata": {},
   "source": [
    "### P23"
   ]
  },
  {
   "cell_type": "markdown",
   "id": "2e576aa3",
   "metadata": {},
   "source": [
    "    you are given an array of numbers (non-negative)\n",
    "    find a continuos subarray of the list which adds up to a given sum "
   ]
  },
  {
   "cell_type": "code",
   "execution_count": 1,
   "id": "d5bf0863",
   "metadata": {},
   "outputs": [
    {
     "data": {
      "text/plain": [
       "[4, 2, 1, 3]"
      ]
     },
     "execution_count": 1,
     "metadata": {},
     "output_type": "execute_result"
    }
   ],
   "source": [
    "def find_subarray(arr,target,idx1=0,idx2=0,result = 0):\n",
    "    if idx2 == len(arr) or idx1 == len(arr):\n",
    "        return -1\n",
    "    elif result > target:\n",
    "        result = result - arr[idx1]\n",
    "        idx1+=1\n",
    "        return find_subarray(arr,target,idx1,idx2,result)\n",
    "    elif result == target :\n",
    "        return arr[idx1:idx2]\n",
    "    else :\n",
    "        result += arr[idx2]\n",
    "        idx2+=1\n",
    "        return find_subarray(arr,target,idx1,idx2,result)\n",
    "\n",
    "arr = [1,7,4,2,1,3,11,5]\n",
    "find_subarray(arr,target=10)"
   ]
  },
  {
   "cell_type": "markdown",
   "id": "5f61dc94",
   "metadata": {},
   "source": [
    "### P24"
   ]
  },
  {
   "cell_type": "markdown",
   "id": "8e61cb20",
   "metadata": {},
   "source": [
    "    Given two strings A and B, find the minumum numbers of steps required to convert  A to B \n",
    "    (each operation is counted as 1 step ) you have the three operations permitted on a word :\n",
    "    1. insert a character\n",
    "    2. Delete a character\n",
    "    3. replace a character"
   ]
  },
  {
   "cell_type": "code",
   "execution_count": 2,
   "id": "1f905ee9",
   "metadata": {},
   "outputs": [],
   "source": [
    "# input \n",
    "str1 = 'intention'\n",
    "str2 = 'execution'\n",
    "\n",
    "# output\n",
    "output1 = 5\n",
    "\n",
    "# function\n"
   ]
  },
  {
   "cell_type": "code",
   "execution_count": 5,
   "id": "358154ae",
   "metadata": {},
   "outputs": [
    {
     "data": {
      "text/plain": [
       "5"
      ]
     },
     "execution_count": 5,
     "metadata": {},
     "output_type": "execute_result"
    }
   ],
   "source": [
    "def min_steps(str1,str2,i1=0,i2=0) :\n",
    "    if i1 == len(str1) :\n",
    "        return len(str2) -i2\n",
    "    elif i2 == len(str2) :\n",
    "        return len(str1)-i1\n",
    "    elif str1[i1] == str2[i2]:\n",
    "        return min_steps(str1,str2,i1+1,i2+1)\n",
    "    else :\n",
    "        return 1 + min(min_steps(str1,str2,i1+1,i2+1),min_steps(str1,str2,i1,i2+1),min_steps(str1,str2,i1+1,i2))\n",
    "\n",
    "min_steps(str1,str2)\n",
    "    "
   ]
  },
  {
   "cell_type": "code",
   "execution_count": null,
   "id": "39344b58",
   "metadata": {},
   "outputs": [],
   "source": []
  }
 ],
 "metadata": {
  "kernelspec": {
   "display_name": "Python 3 (ipykernel)",
   "language": "python",
   "name": "python3"
  },
  "language_info": {
   "codemirror_mode": {
    "name": "ipython",
    "version": 3
   },
   "file_extension": ".py",
   "mimetype": "text/x-python",
   "name": "python",
   "nbconvert_exporter": "python",
   "pygments_lexer": "ipython3",
   "version": "3.11.2"
  }
 },
 "nbformat": 4,
 "nbformat_minor": 5
}
